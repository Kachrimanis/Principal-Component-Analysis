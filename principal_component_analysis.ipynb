{
 "cells": [
  {
   "cell_type": "code",
   "execution_count": 2,
   "metadata": {
    "collapsed": true
   },
   "outputs": [],
   "source": [
    "import pandas as pd\n",
    "import numpy as np\n",
    "import matplotlib.pyplot as plt\n",
    "%matplotlib inline\n",
    "import pylab as pl"
   ]
  },
  {
   "cell_type": "code",
   "execution_count": 18,
   "metadata": {
    "collapsed": false
   },
   "outputs": [
    {
     "data": {
      "text/html": [
       "<div>\n",
       "<table border=\"1\" class=\"dataframe\">\n",
       "  <thead>\n",
       "    <tr style=\"text-align: right;\">\n",
       "      <th></th>\n",
       "      <th>Rooms</th>\n",
       "      <th>Active_energy</th>\n",
       "      <th>Reactive_inductive_energy</th>\n",
       "      <th>Reactive_Capacitive_energy</th>\n",
       "      <th>Reactive_energy</th>\n",
       "      <th>Aparent_energy</th>\n",
       "      <th>Active_power</th>\n",
       "      <th>Reactive_power</th>\n",
       "      <th>Aparent_power</th>\n",
       "      <th>Temperature</th>\n",
       "      <th>Fan_speed</th>\n",
       "    </tr>\n",
       "  </thead>\n",
       "  <tbody>\n",
       "    <tr>\n",
       "      <th>0</th>\n",
       "      <td>energy_room_1</td>\n",
       "      <td>85.61</td>\n",
       "      <td>1.46</td>\n",
       "      <td>0.16</td>\n",
       "      <td>3.54</td>\n",
       "      <td>13.62</td>\n",
       "      <td>60.92</td>\n",
       "      <td>1.74</td>\n",
       "      <td>0.31</td>\n",
       "      <td>25.2</td>\n",
       "      <td>2.0</td>\n",
       "    </tr>\n",
       "    <tr>\n",
       "      <th>1</th>\n",
       "      <td>energy_room_2</td>\n",
       "      <td>175.20</td>\n",
       "      <td>2.42</td>\n",
       "      <td>0.20</td>\n",
       "      <td>3.74</td>\n",
       "      <td>14.06</td>\n",
       "      <td>70.46</td>\n",
       "      <td>1.58</td>\n",
       "      <td>0.18</td>\n",
       "      <td>24.5</td>\n",
       "      <td>2.1</td>\n",
       "    </tr>\n",
       "    <tr>\n",
       "      <th>2</th>\n",
       "      <td>energy_room_3</td>\n",
       "      <td>513.74</td>\n",
       "      <td>1.52</td>\n",
       "      <td>0.18</td>\n",
       "      <td>3.22</td>\n",
       "      <td>13.95</td>\n",
       "      <td>63.59</td>\n",
       "      <td>1.24</td>\n",
       "      <td>0.39</td>\n",
       "      <td>26.7</td>\n",
       "      <td>1.8</td>\n",
       "    </tr>\n",
       "    <tr>\n",
       "      <th>3</th>\n",
       "      <td>energy_room_4</td>\n",
       "      <td>376.40</td>\n",
       "      <td>4.17</td>\n",
       "      <td>0.23</td>\n",
       "      <td>3.62</td>\n",
       "      <td>14.12</td>\n",
       "      <td>73.30</td>\n",
       "      <td>2.26</td>\n",
       "      <td>0.41</td>\n",
       "      <td>23.9</td>\n",
       "      <td>1.5</td>\n",
       "    </tr>\n",
       "    <tr>\n",
       "      <th>4</th>\n",
       "      <td>energy_room_5</td>\n",
       "      <td>154.88</td>\n",
       "      <td>1.25</td>\n",
       "      <td>0.20</td>\n",
       "      <td>4.35</td>\n",
       "      <td>15.09</td>\n",
       "      <td>71.69</td>\n",
       "      <td>1.22</td>\n",
       "      <td>0.14</td>\n",
       "      <td>24.2</td>\n",
       "      <td>2.2</td>\n",
       "    </tr>\n",
       "    <tr>\n",
       "      <th>5</th>\n",
       "      <td>energy_room_6</td>\n",
       "      <td>462.62</td>\n",
       "      <td>1.40</td>\n",
       "      <td>0.25</td>\n",
       "      <td>4.16</td>\n",
       "      <td>13.67</td>\n",
       "      <td>59.60</td>\n",
       "      <td>0.90</td>\n",
       "      <td>0.32</td>\n",
       "      <td>25.6</td>\n",
       "      <td>2.5</td>\n",
       "    </tr>\n",
       "    <tr>\n",
       "      <th>6</th>\n",
       "      <td>energy_room_7</td>\n",
       "      <td>244.15</td>\n",
       "      <td>3.80</td>\n",
       "      <td>0.26</td>\n",
       "      <td>3.40</td>\n",
       "      <td>12.84</td>\n",
       "      <td>59.42</td>\n",
       "      <td>2.12</td>\n",
       "      <td>0.13</td>\n",
       "      <td>27.0</td>\n",
       "      <td>1.1</td>\n",
       "    </tr>\n",
       "    <tr>\n",
       "      <th>7</th>\n",
       "      <td>energy_room_8</td>\n",
       "      <td>212.00</td>\n",
       "      <td>4.32</td>\n",
       "      <td>0.14</td>\n",
       "      <td>3.05</td>\n",
       "      <td>14.13</td>\n",
       "      <td>63.52</td>\n",
       "      <td>1.47</td>\n",
       "      <td>0.34</td>\n",
       "      <td>25.9</td>\n",
       "      <td>1.6</td>\n",
       "    </tr>\n",
       "  </tbody>\n",
       "</table>\n",
       "</div>"
      ],
      "text/plain": [
       "           Rooms  Active_energy  Reactive_inductive_energy  \\\n",
       "0  energy_room_1          85.61                       1.46   \n",
       "1  energy_room_2         175.20                       2.42   \n",
       "2  energy_room_3         513.74                       1.52   \n",
       "3  energy_room_4         376.40                       4.17   \n",
       "4  energy_room_5         154.88                       1.25   \n",
       "5  energy_room_6         462.62                       1.40   \n",
       "6  energy_room_7         244.15                       3.80   \n",
       "7  energy_room_8         212.00                       4.32   \n",
       "\n",
       "   Reactive_Capacitive_energy  Reactive_energy  Aparent_energy  Active_power  \\\n",
       "0                        0.16             3.54           13.62         60.92   \n",
       "1                        0.20             3.74           14.06         70.46   \n",
       "2                        0.18             3.22           13.95         63.59   \n",
       "3                        0.23             3.62           14.12         73.30   \n",
       "4                        0.20             4.35           15.09         71.69   \n",
       "5                        0.25             4.16           13.67         59.60   \n",
       "6                        0.26             3.40           12.84         59.42   \n",
       "7                        0.14             3.05           14.13         63.52   \n",
       "\n",
       "   Reactive_power  Aparent_power  Temperature  Fan_speed  \n",
       "0            1.74           0.31         25.2        2.0  \n",
       "1            1.58           0.18         24.5        2.1  \n",
       "2            1.24           0.39         26.7        1.8  \n",
       "3            2.26           0.41         23.9        1.5  \n",
       "4            1.22           0.14         24.2        2.2  \n",
       "5            0.90           0.32         25.6        2.5  \n",
       "6            2.12           0.13         27.0        1.1  \n",
       "7            1.47           0.34         25.9        1.6  "
      ]
     },
     "execution_count": 18,
     "metadata": {},
     "output_type": "execute_result"
    }
   ],
   "source": [
    "data = pd.read_csv(\"thesis_data\")\n",
    "data"
   ]
  },
  {
   "cell_type": "code",
   "execution_count": 19,
   "metadata": {
    "collapsed": false
   },
   "outputs": [
    {
     "data": {
      "text/html": [
       "<div>\n",
       "<table border=\"1\" class=\"dataframe\">\n",
       "  <thead>\n",
       "    <tr style=\"text-align: right;\">\n",
       "      <th></th>\n",
       "      <th>Active_energy</th>\n",
       "      <th>Reactive_inductive_energy</th>\n",
       "      <th>Reactive_Capacitive_energy</th>\n",
       "      <th>Reactive_energy</th>\n",
       "      <th>Aparent_energy</th>\n",
       "      <th>Active_power</th>\n",
       "      <th>Reactive_power</th>\n",
       "      <th>Aparent_power</th>\n",
       "      <th>Temperature</th>\n",
       "      <th>Fan_speed</th>\n",
       "    </tr>\n",
       "    <tr>\n",
       "      <th>Rooms</th>\n",
       "      <th></th>\n",
       "      <th></th>\n",
       "      <th></th>\n",
       "      <th></th>\n",
       "      <th></th>\n",
       "      <th></th>\n",
       "      <th></th>\n",
       "      <th></th>\n",
       "      <th></th>\n",
       "      <th></th>\n",
       "    </tr>\n",
       "  </thead>\n",
       "  <tbody>\n",
       "    <tr>\n",
       "      <th>energy_room_1</th>\n",
       "      <td>85.61</td>\n",
       "      <td>1.46</td>\n",
       "      <td>0.16</td>\n",
       "      <td>3.54</td>\n",
       "      <td>13.62</td>\n",
       "      <td>60.92</td>\n",
       "      <td>1.74</td>\n",
       "      <td>0.31</td>\n",
       "      <td>25.2</td>\n",
       "      <td>2.0</td>\n",
       "    </tr>\n",
       "    <tr>\n",
       "      <th>energy_room_2</th>\n",
       "      <td>175.20</td>\n",
       "      <td>2.42</td>\n",
       "      <td>0.20</td>\n",
       "      <td>3.74</td>\n",
       "      <td>14.06</td>\n",
       "      <td>70.46</td>\n",
       "      <td>1.58</td>\n",
       "      <td>0.18</td>\n",
       "      <td>24.5</td>\n",
       "      <td>2.1</td>\n",
       "    </tr>\n",
       "    <tr>\n",
       "      <th>energy_room_3</th>\n",
       "      <td>513.74</td>\n",
       "      <td>1.52</td>\n",
       "      <td>0.18</td>\n",
       "      <td>3.22</td>\n",
       "      <td>13.95</td>\n",
       "      <td>63.59</td>\n",
       "      <td>1.24</td>\n",
       "      <td>0.39</td>\n",
       "      <td>26.7</td>\n",
       "      <td>1.8</td>\n",
       "    </tr>\n",
       "    <tr>\n",
       "      <th>energy_room_4</th>\n",
       "      <td>376.40</td>\n",
       "      <td>4.17</td>\n",
       "      <td>0.23</td>\n",
       "      <td>3.62</td>\n",
       "      <td>14.12</td>\n",
       "      <td>73.30</td>\n",
       "      <td>2.26</td>\n",
       "      <td>0.41</td>\n",
       "      <td>23.9</td>\n",
       "      <td>1.5</td>\n",
       "    </tr>\n",
       "    <tr>\n",
       "      <th>energy_room_5</th>\n",
       "      <td>154.88</td>\n",
       "      <td>1.25</td>\n",
       "      <td>0.20</td>\n",
       "      <td>4.35</td>\n",
       "      <td>15.09</td>\n",
       "      <td>71.69</td>\n",
       "      <td>1.22</td>\n",
       "      <td>0.14</td>\n",
       "      <td>24.2</td>\n",
       "      <td>2.2</td>\n",
       "    </tr>\n",
       "    <tr>\n",
       "      <th>energy_room_6</th>\n",
       "      <td>462.62</td>\n",
       "      <td>1.40</td>\n",
       "      <td>0.25</td>\n",
       "      <td>4.16</td>\n",
       "      <td>13.67</td>\n",
       "      <td>59.60</td>\n",
       "      <td>0.90</td>\n",
       "      <td>0.32</td>\n",
       "      <td>25.6</td>\n",
       "      <td>2.5</td>\n",
       "    </tr>\n",
       "    <tr>\n",
       "      <th>energy_room_7</th>\n",
       "      <td>244.15</td>\n",
       "      <td>3.80</td>\n",
       "      <td>0.26</td>\n",
       "      <td>3.40</td>\n",
       "      <td>12.84</td>\n",
       "      <td>59.42</td>\n",
       "      <td>2.12</td>\n",
       "      <td>0.13</td>\n",
       "      <td>27.0</td>\n",
       "      <td>1.1</td>\n",
       "    </tr>\n",
       "    <tr>\n",
       "      <th>energy_room_8</th>\n",
       "      <td>212.00</td>\n",
       "      <td>4.32</td>\n",
       "      <td>0.14</td>\n",
       "      <td>3.05</td>\n",
       "      <td>14.13</td>\n",
       "      <td>63.52</td>\n",
       "      <td>1.47</td>\n",
       "      <td>0.34</td>\n",
       "      <td>25.9</td>\n",
       "      <td>1.6</td>\n",
       "    </tr>\n",
       "  </tbody>\n",
       "</table>\n",
       "</div>"
      ],
      "text/plain": [
       "               Active_energy  Reactive_inductive_energy  \\\n",
       "Rooms                                                     \n",
       "energy_room_1          85.61                       1.46   \n",
       "energy_room_2         175.20                       2.42   \n",
       "energy_room_3         513.74                       1.52   \n",
       "energy_room_4         376.40                       4.17   \n",
       "energy_room_5         154.88                       1.25   \n",
       "energy_room_6         462.62                       1.40   \n",
       "energy_room_7         244.15                       3.80   \n",
       "energy_room_8         212.00                       4.32   \n",
       "\n",
       "               Reactive_Capacitive_energy  Reactive_energy  Aparent_energy  \\\n",
       "Rooms                                                                        \n",
       "energy_room_1                        0.16             3.54           13.62   \n",
       "energy_room_2                        0.20             3.74           14.06   \n",
       "energy_room_3                        0.18             3.22           13.95   \n",
       "energy_room_4                        0.23             3.62           14.12   \n",
       "energy_room_5                        0.20             4.35           15.09   \n",
       "energy_room_6                        0.25             4.16           13.67   \n",
       "energy_room_7                        0.26             3.40           12.84   \n",
       "energy_room_8                        0.14             3.05           14.13   \n",
       "\n",
       "               Active_power  Reactive_power  Aparent_power  Temperature  \\\n",
       "Rooms                                                                     \n",
       "energy_room_1         60.92            1.74           0.31         25.2   \n",
       "energy_room_2         70.46            1.58           0.18         24.5   \n",
       "energy_room_3         63.59            1.24           0.39         26.7   \n",
       "energy_room_4         73.30            2.26           0.41         23.9   \n",
       "energy_room_5         71.69            1.22           0.14         24.2   \n",
       "energy_room_6         59.60            0.90           0.32         25.6   \n",
       "energy_room_7         59.42            2.12           0.13         27.0   \n",
       "energy_room_8         63.52            1.47           0.34         25.9   \n",
       "\n",
       "               Fan_speed  \n",
       "Rooms                     \n",
       "energy_room_1        2.0  \n",
       "energy_room_2        2.1  \n",
       "energy_room_3        1.8  \n",
       "energy_room_4        1.5  \n",
       "energy_room_5        2.2  \n",
       "energy_room_6        2.5  \n",
       "energy_room_7        1.1  \n",
       "energy_room_8        1.6  "
      ]
     },
     "execution_count": 19,
     "metadata": {},
     "output_type": "execute_result"
    }
   ],
   "source": [
    "data = data.set_index(\"Rooms\")\n",
    "data"
   ]
  },
  {
   "cell_type": "code",
   "execution_count": 5,
   "metadata": {
    "collapsed": false
   },
   "outputs": [
    {
     "name": "stdout",
     "output_type": "stream",
     "text": [
      "[[  8.56100000e+01   1.46000000e+00   1.60000000e-01   3.54000000e+00\n",
      "    1.36200000e+01   6.09200000e+01   1.74000000e+00   3.10000000e-01\n",
      "    2.52000000e+01   2.00000000e+00]\n",
      " [  1.75200000e+02   2.42000000e+00   2.00000000e-01   3.74000000e+00\n",
      "    1.40600000e+01   7.04600000e+01   1.58000000e+00   1.80000000e-01\n",
      "    2.45000000e+01   2.10000000e+00]\n",
      " [  5.13740000e+02   1.52000000e+00   1.80000000e-01   3.22000000e+00\n",
      "    1.39500000e+01   6.35900000e+01   1.24000000e+00   3.90000000e-01\n",
      "    2.67000000e+01   1.80000000e+00]\n",
      " [  3.76400000e+02   4.17000000e+00   2.30000000e-01   3.62000000e+00\n",
      "    1.41200000e+01   7.33000000e+01   2.26000000e+00   4.10000000e-01\n",
      "    2.39000000e+01   1.50000000e+00]\n",
      " [  1.54880000e+02   1.25000000e+00   2.00000000e-01   4.35000000e+00\n",
      "    1.50900000e+01   7.16900000e+01   1.22000000e+00   1.40000000e-01\n",
      "    2.42000000e+01   2.20000000e+00]\n",
      " [  4.62620000e+02   1.40000000e+00   2.50000000e-01   4.16000000e+00\n",
      "    1.36700000e+01   5.96000000e+01   9.00000000e-01   3.20000000e-01\n",
      "    2.56000000e+01   2.50000000e+00]\n",
      " [  2.44150000e+02   3.80000000e+00   2.60000000e-01   3.40000000e+00\n",
      "    1.28400000e+01   5.94200000e+01   2.12000000e+00   1.30000000e-01\n",
      "    2.70000000e+01   1.10000000e+00]\n",
      " [  2.12000000e+02   4.32000000e+00   1.40000000e-01   3.05000000e+00\n",
      "    1.41300000e+01   6.35200000e+01   1.47000000e+00   3.40000000e-01\n",
      "    2.59000000e+01   1.60000000e+00]]\n",
      "['energy_room_1' 'energy_room_2' 'energy_room_3' 'energy_room_4'\n",
      " 'energy_room_5' 'energy_room_6' 'energy_room_7' 'energy_room_8']\n"
     ]
    }
   ],
   "source": [
    "X = data.ix[:,0:10].values\n",
    "y = data.index.values\n",
    "print(X)\n",
    "print(y)"
   ]
  },
  {
   "cell_type": "code",
   "execution_count": 6,
   "metadata": {
    "collapsed": true
   },
   "outputs": [],
   "source": [
    "import plotly.plotly as py\n",
    "from plotly.graph_objs import *\n",
    "import plotly.tools as tls\n",
    "py.sign_in('kachri', 'fUq6YwdDckcYFnWc54VC')"
   ]
  },
  {
   "cell_type": "code",
   "execution_count": 7,
   "metadata": {
    "collapsed": false
   },
   "outputs": [
    {
     "data": {
      "text/plain": [
       "array([[-1.32978798, -0.86263367, -1.07303049, -0.22899878, -0.53334319,\n",
       "        -0.83047948,  0.40155469,  0.31138283, -0.16430838,  0.36115756],\n",
       "       [-0.71078866, -0.09761905, -0.06311944,  0.25310392,  0.21164412,\n",
       "         0.97322553,  0.03177771, -0.93414848, -0.82154192,  0.60192927],\n",
       "       [ 1.6282674 , -0.81482026, -0.56807496, -1.0003631 ,  0.02539729,\n",
       "        -0.32566896, -0.75399838,  1.07786364,  1.2440492 , -0.12038585],\n",
       "       [ 0.67935159,  1.29693884,  0.69431384, -0.0361577 ,  0.3132333 ,\n",
       "         1.51017754,  1.60332989,  1.26948384, -1.38488495, -0.84270097],\n",
       "       [-0.85118453, -1.02998062, -0.06311944,  1.72351714,  1.95559169,\n",
       "         1.20577869, -0.8002205 , -1.31738889, -1.10321344,  0.84270097],\n",
       "       [ 1.27506676, -0.91044708,  1.19926937,  1.26551958, -0.44868554,\n",
       "        -1.08004873, -1.53977447,  0.40719293,  0.21125364,  1.56501609],\n",
       "       [-0.23439616,  1.00208946,  1.45174713, -0.56647067, -1.85400251,\n",
       "        -1.11408089,  1.27977503, -1.41319899,  1.52572071, -1.8057878 ],\n",
       "       [-0.45652841,  1.41647238, -1.57798601, -1.41015039,  0.33016483,\n",
       "        -0.33890369, -0.22244397,  0.59881313,  0.49292515, -0.60192927]])"
      ]
     },
     "execution_count": 7,
     "metadata": {},
     "output_type": "execute_result"
    }
   ],
   "source": [
    "from sklearn.preprocessing import StandardScaler\n",
    "X_std = StandardScaler().fit_transform(X)\n",
    "X_std"
   ]
  },
  {
   "cell_type": "code",
   "execution_count": 8,
   "metadata": {
    "collapsed": false
   },
   "outputs": [
    {
     "name": "stdout",
     "output_type": "stream",
     "text": [
      "Covariance matrix \n",
      "[[ 1.14285714 -0.05641206  0.42592274 -0.08652327 -0.16284053 -0.1541928\n",
      "  -0.31080834  0.65225679  0.35900032  0.04280792]\n",
      " [-0.05641206  1.14285714  0.06970041 -0.65020216 -0.31013637  0.14147227\n",
      "   0.79110791  0.14413814  0.08331789 -0.9028789 ]\n",
      " [ 0.42592274  0.06970041  1.14285714  0.51209431 -0.44458281 -0.05581628\n",
      "   0.21735483 -0.34729813  0.0457173  -0.11289479]\n",
      " [-0.08652327 -0.65020216  0.51209431  1.14285714  0.50375743  0.36114934\n",
      "  -0.44667101 -0.46157315 -0.65116743  0.78932148]\n",
      " [-0.16284053 -0.31013637 -0.44458281  0.50375743  1.14285714  0.84427179\n",
      "  -0.4349362   0.01714909 -0.7723719   0.53753322]\n",
      " [-0.1541928   0.14147227 -0.05581628  0.36114934  0.84427179  1.14285714\n",
      "   0.24458106 -0.03691494 -0.94069816  0.08486626]\n",
      " [-0.31080834  0.79110791  0.21735483 -0.44667101 -0.4349362   0.24458106\n",
      "   1.14285714 -0.02807382 -0.12143742 -0.90820421]\n",
      " [ 0.65225679  0.14413814 -0.34729813 -0.46157315  0.01714909 -0.03691494\n",
      "  -0.02807382  1.14285714 -0.00321274  0.00988644]\n",
      " [ 0.35900032  0.08331789  0.0457173  -0.65116743 -0.7723719  -0.94069816\n",
      "  -0.12143742 -0.00321274  1.14285714 -0.455353  ]\n",
      " [ 0.04280792 -0.9028789  -0.11289479  0.78932148  0.53753322  0.08486626\n",
      "  -0.90820421  0.00988644 -0.455353    1.14285714]]\n"
     ]
    }
   ],
   "source": [
    "mean_vector = np.mean(X_std, axis=0)\n",
    "covar_matrix = (X_std - mean_vector).T.dot((X_std - mean_vector)) / (X_std.shape[0]-1)\n",
    "print('Covariance matrix \\n%s' %covar_matrix)"
   ]
  },
  {
   "cell_type": "code",
   "execution_count": 9,
   "metadata": {
    "collapsed": false
   },
   "outputs": [
    {
     "name": "stdout",
     "output_type": "stream",
     "text": [
      "Eigenvectors \n",
      "[[-0.07075857+0.j          0.33664787+0.j         -0.17875274+0.j\n",
      "   0.65685538+0.j          0.28286068+0.j         -0.14032866+0.j\n",
      "  -0.13741640+0.j          0.49177453+0.j         -0.09637740+0.03086895j\n",
      "  -0.09637740-0.03086895j]\n",
      " [-0.35945812+0.j         -0.36526670+0.j         -0.05125927+0.j\n",
      "   0.14536042+0.j          0.19346350+0.j          0.79257838+0.j\n",
      "  -0.05343840+0.j          0.04652943+0.j         -0.19856669+0.01555184j\n",
      "  -0.19856669-0.01555184j]\n",
      " [-0.04583256+0.j          0.07648281+0.j          0.58532455+0.j\n",
      "   0.51934551+0.j          0.01131712+0.j          0.05876228+0.j\n",
      "   0.02637315+0.j         -0.25936183+0.j          0.34093008-0.12488167j\n",
      "   0.34093008+0.12488167j]\n",
      " [ 0.43137629+0.j          0.02866331+0.j          0.38111666+0.j\n",
      "   0.16831082+0.j         -0.10423476+0.j          0.13998331+0.j\n",
      "   0.47220891+0.j         -0.07821898+0.j         -0.47655791+0.14783435j\n",
      "  -0.47655791-0.14783435j]\n",
      " [ 0.41210248+0.j         -0.22970382+0.j         -0.27888061+0.j\n",
      "   0.00161103+0.j          0.45488871+0.j         -0.00622973+0.j\n",
      "   0.47279367+0.j          0.20871440+0.j          0.10694853-0.14069119j\n",
      "   0.10694853+0.14069119j]\n",
      " [ 0.25600122+0.j         -0.49268999+0.j         -0.10027416+0.j\n",
      "   0.25740773+0.j          0.26195554+0.j         -0.29137236+0.j\n",
      "  -0.44832518+0.j         -0.44910623+0.j         -0.22360910+0.07462543j\n",
      "  -0.22360910-0.07462543j]\n",
      " [-0.31715552+0.j         -0.44751810+0.j          0.15143484+0.j\n",
      "   0.09830830+0.j         -0.37039608+0.j         -0.38128044+0.j\n",
      "   0.11375966+0.j          0.38036065+0.j         -0.34510268-0.0655765j\n",
      "  -0.34510268+0.0655765j ]\n",
      " [-0.08992641+0.j          0.09897584+0.j         -0.60270110+0.j\n",
      "   0.37815787+0.j         -0.45656367+0.j          0.04461207+0.j\n",
      "   0.29848973+0.j         -0.40752560+0.j         -0.02495051+0.00590912j\n",
      "  -0.02495051-0.00590912j]\n",
      " [-0.35624790+0.j          0.41495400+0.j          0.03137705+0.j\n",
      "  -0.17217129+0.j          0.40445501+0.j         -0.15186647+0.j\n",
      "   0.10267692+0.j         -0.31710788+0.j         -0.50882413+0.j\n",
      "  -0.50882413-0.j        ]\n",
      " [ 0.45458216+0.j          0.26232512+0.j         -0.05069767+0.j\n",
      "  -0.02812274+0.j         -0.29461298+0.j          0.27150315+0.j\n",
      "  -0.46634218+0.j          0.16136667+0.j         -0.30090592-0.09484089j\n",
      "  -0.30090592+0.09484089j]]\n",
      "\n",
      "Eigenvalues \n",
      "[  4.13418233e+00 +0.00000000e+00j   2.71103503e+00 +0.00000000e+00j\n",
      "   1.98757231e+00 +0.00000000e+00j   1.61719747e+00 +0.00000000e+00j\n",
      "   5.71453751e-01 +0.00000000e+00j   2.95892533e-01 +0.00000000e+00j\n",
      "   1.11238002e-01 +0.00000000e+00j  -2.11050284e-16 +0.00000000e+00j\n",
      "   1.30267993e-16 +6.54084882e-17j   1.30267993e-16 -6.54084882e-17j]\n"
     ]
    }
   ],
   "source": [
    "covar_matrix = np.cov(X_std.T)\n",
    "\n",
    "eigen_vals, eigen_vecs = np.linalg.eig(covar_matrix)\n",
    "\n",
    "print('Eigenvectors \\n%s' %eigen_vecs)\n",
    "print('\\nEigenvalues \\n%s' %eigen_vals)"
   ]
  },
  {
   "cell_type": "code",
   "execution_count": 10,
   "metadata": {
    "collapsed": false
   },
   "outputs": [
    {
     "name": "stdout",
     "output_type": "stream",
     "text": [
      "Eigenvectors \n",
      "[[-0.07075857+0.j          0.33664787+0.j         -0.17875274+0.j\n",
      "   0.65685538+0.j          0.28286068+0.j         -0.14032866+0.j\n",
      "  -0.13741640+0.j          0.49177453+0.j         -0.09637740+0.03086895j\n",
      "  -0.09637740-0.03086895j]\n",
      " [-0.35945812+0.j         -0.36526670+0.j         -0.05125927+0.j\n",
      "   0.14536042+0.j          0.19346350+0.j          0.79257838+0.j\n",
      "  -0.05343840+0.j          0.04652943+0.j         -0.19856669+0.01555184j\n",
      "  -0.19856669-0.01555184j]\n",
      " [-0.04583256+0.j          0.07648281+0.j          0.58532455+0.j\n",
      "   0.51934551+0.j          0.01131712+0.j          0.05876228+0.j\n",
      "   0.02637315+0.j         -0.25936183+0.j          0.34093008-0.12488167j\n",
      "   0.34093008+0.12488167j]\n",
      " [ 0.43137629+0.j          0.02866331+0.j          0.38111666+0.j\n",
      "   0.16831082+0.j         -0.10423476+0.j          0.13998331+0.j\n",
      "   0.47220891+0.j         -0.07821898+0.j         -0.47655791+0.14783435j\n",
      "  -0.47655791-0.14783435j]\n",
      " [ 0.41210248+0.j         -0.22970382+0.j         -0.27888061+0.j\n",
      "   0.00161103+0.j          0.45488871+0.j         -0.00622973+0.j\n",
      "   0.47279367+0.j          0.20871440+0.j          0.10694853-0.14069119j\n",
      "   0.10694853+0.14069119j]\n",
      " [ 0.25600122+0.j         -0.49268999+0.j         -0.10027416+0.j\n",
      "   0.25740773+0.j          0.26195554+0.j         -0.29137236+0.j\n",
      "  -0.44832518+0.j         -0.44910623+0.j         -0.22360910+0.07462543j\n",
      "  -0.22360910-0.07462543j]\n",
      " [-0.31715552+0.j         -0.44751810+0.j          0.15143484+0.j\n",
      "   0.09830830+0.j         -0.37039608+0.j         -0.38128044+0.j\n",
      "   0.11375966+0.j          0.38036065+0.j         -0.34510268-0.0655765j\n",
      "  -0.34510268+0.0655765j ]\n",
      " [-0.08992641+0.j          0.09897584+0.j         -0.60270110+0.j\n",
      "   0.37815787+0.j         -0.45656367+0.j          0.04461207+0.j\n",
      "   0.29848973+0.j         -0.40752560+0.j         -0.02495051+0.00590912j\n",
      "  -0.02495051-0.00590912j]\n",
      " [-0.35624790+0.j          0.41495400+0.j          0.03137705+0.j\n",
      "  -0.17217129+0.j          0.40445501+0.j         -0.15186647+0.j\n",
      "   0.10267692+0.j         -0.31710788+0.j         -0.50882413+0.j\n",
      "  -0.50882413-0.j        ]\n",
      " [ 0.45458216+0.j          0.26232512+0.j         -0.05069767+0.j\n",
      "  -0.02812274+0.j         -0.29461298+0.j          0.27150315+0.j\n",
      "  -0.46634218+0.j          0.16136667+0.j         -0.30090592-0.09484089j\n",
      "  -0.30090592+0.09484089j]]\n",
      "\n",
      "Eigenvalues \n",
      "[  3.61740954e+00 +0.00000000e+00j   2.37215565e+00 +0.00000000e+00j\n",
      "   1.73912577e+00 +0.00000000e+00j   1.41504779e+00 +0.00000000e+00j\n",
      "   5.00022032e-01 +0.00000000e+00j   2.58905967e-01 +0.00000000e+00j\n",
      "   9.73332515e-02 +0.00000000e+00j   1.34646143e-16 +0.00000000e+00j\n",
      "  -9.79105590e-17 +1.02947429e-16j  -9.79105590e-17 -1.02947429e-16j]\n"
     ]
    }
   ],
   "source": [
    "correlation_matrix1 = np.corrcoef(X_std.T)\n",
    "\n",
    "eigen_vals, eigen_vecs_vecs = np.linalg.eig(correlation_matrix1)\n",
    "\n",
    "print('Eigenvectors \\n%s' %eigen_vecs)\n",
    "print('\\nEigenvalues \\n%s' %eigen_vals)"
   ]
  },
  {
   "cell_type": "code",
   "execution_count": 11,
   "metadata": {
    "collapsed": false
   },
   "outputs": [
    {
     "name": "stdout",
     "output_type": "stream",
     "text": [
      "Eigenvectors \n",
      "[[-0.07075857  0.33664787 -0.17875274  0.65685538  0.28286068 -0.14032866\n",
      "  -0.1374164  -0.43870226 -0.04065809  0.46618066]\n",
      " [-0.35945812 -0.3652667  -0.05125927  0.14536042  0.1934635   0.79257838\n",
      "  -0.0534384  -0.05170438  0.12269926  0.16925544]\n",
      " [-0.04583256  0.07648281  0.58532455  0.51934551  0.01131712  0.05876228\n",
      "   0.02637315  0.55585492 -0.35667431 -0.51936105]\n",
      " [ 0.43137629  0.02866331  0.38111666  0.16831082 -0.10423476  0.13998331\n",
      "   0.47220891 -0.3717613   0.58275097  0.36079244]\n",
      " [ 0.41210248 -0.22970382 -0.27888061  0.00161103  0.45488871 -0.00622973\n",
      "   0.47279367  0.31983315 -0.41326968 -0.03181968]\n",
      " [ 0.25600122 -0.49268999 -0.10027416  0.25740773  0.26195554 -0.29137236\n",
      "  -0.44832518  0.09998204  0.41471362 -0.14463895]\n",
      " [-0.31715552 -0.4475181   0.15143484  0.0983083  -0.37039608 -0.38128044\n",
      "   0.11375966  0.01808413 -0.07270999  0.44071486]\n",
      " [-0.08992641  0.09897584 -0.6027011   0.37815787 -0.45656367  0.04461207\n",
      "   0.29848973  0.27312101  0.15430734 -0.29460527]\n",
      " [-0.3562479   0.414954    0.03137705 -0.17217129  0.40445501 -0.15186647\n",
      "   0.10267692  0.31500769  0.37009903  0.05991589]\n",
      " [ 0.45458216  0.26232512 -0.05069767 -0.02812274 -0.29461298  0.27150315\n",
      "  -0.46634218  0.26691611 -0.08733011  0.21812021]]\n",
      "\n",
      "Eigenvalues \n",
      "[  3.61740954e+00   2.37215565e+00   1.73912577e+00   1.41504779e+00\n",
      "   5.00022032e-01   2.58905967e-01   9.73332515e-02  -1.10381773e-16\n",
      "   1.73893712e-17  -4.97158039e-17]\n"
     ]
    }
   ],
   "source": [
    "correlation_matrix2 = np.corrcoef(X.T)\n",
    "\n",
    "eigen_vals, eigen_vecs = np.linalg.eig(correlation_matrix2)\n",
    "\n",
    "print('Eigenvectors \\n%s' %eigen_vecs)\n",
    "print('\\nEigenvalues \\n%s' %eigen_vals)"
   ]
  },
  {
   "cell_type": "markdown",
   "metadata": {},
   "source": [
    "We can clearly see that all three approaches yield the same eigenvectors and eigenvalue pairs:\n",
    "    \n",
    "- Eigendecomposition of the covariance matrix after standardizing the data.\n",
    "- Eigendecomposition of the correlation matrix.\n",
    "- Eigendecomposition of the correlation matrix after standardizing the data."
   ]
  },
  {
   "cell_type": "code",
   "execution_count": 12,
   "metadata": {
    "collapsed": false
   },
   "outputs": [
    {
     "name": "stdout",
     "output_type": "stream",
     "text": [
      "Eigenvalues in descending order:\n",
      "3.61740954274\n",
      "2.37215565081\n",
      "1.73912576761\n",
      "1.41504778867\n",
      "0.500022032053\n",
      "0.258905966652\n",
      "0.0973332514548\n",
      "1.10381773009e-16\n",
      "4.97158038787e-17\n",
      "1.73893712241e-17\n"
     ]
    }
   ],
   "source": [
    "eig_pairs = [(np.abs(eigen_vals[i]), eigen_vecs[:,i]) for i in range(len(eigen_vals))]\n",
    "\n",
    "eig_pairs.sort()\n",
    "eig_pairs.reverse()\n",
    "\n",
    "print('Eigenvalues in descending order:')\n",
    "for i in eig_pairs:\n",
    "    print(i[0])"
   ]
  },
  {
   "cell_type": "code",
   "execution_count": 21,
   "metadata": {
    "collapsed": false
   },
   "outputs": [
    {
     "data": {
      "text/html": [
       "<iframe id=\"igraph\" scrolling=\"no\" style=\"border:none;\" seamless=\"seamless\" src=\"https://plot.ly/~kachri/109.embed\" height=\"525px\" width=\"100%\"></iframe>"
      ],
      "text/plain": [
       "<plotly.tools.PlotlyDisplay object>"
      ]
     },
     "execution_count": 21,
     "metadata": {},
     "output_type": "execute_result"
    }
   ],
   "source": [
    "tot = sum(eigen_vals)\n",
    "var_exp = [(i / tot)*100 for i in sorted(eigen_vals, reverse=True)]\n",
    "cum_var_exp = np.cumsum(var_exp)\n",
    "\n",
    "trace1 = Bar(\n",
    "        x=['PC %s' %i for i in range(1,5)],\n",
    "        y=var_exp,\n",
    "        showlegend=False)\n",
    "\n",
    "trace2 = Scatter(\n",
    "        x=['PC %s' %i for i in range(1,5)], \n",
    "        y=cum_var_exp,\n",
    "        name='cumulative explained variance')\n",
    "\n",
    "df = Data([trace1, trace2])\n",
    "\n",
    "layout=Layout(\n",
    "        yaxis=YAxis(title='Explained variance in percent'),\n",
    "        title='Explained variance by different principal components')\n",
    "\n",
    "fig = Figure(data=df, layout=layout)\n",
    "py.iplot(fig)"
   ]
  },
  {
   "cell_type": "code",
   "execution_count": 14,
   "metadata": {
    "collapsed": false
   },
   "outputs": [
    {
     "name": "stdout",
     "output_type": "stream",
     "text": [
      "Matrix W:\n",
      " [[-0.07075857  0.33664787]\n",
      " [-0.35945812 -0.3652667 ]\n",
      " [-0.04583256  0.07648281]\n",
      " [ 0.43137629  0.02866331]\n",
      " [ 0.41210248 -0.22970382]\n",
      " [ 0.25600122 -0.49268999]\n",
      " [-0.31715552 -0.4475181 ]\n",
      " [-0.08992641  0.09897584]\n",
      " [-0.3562479   0.414954  ]\n",
      " [ 0.45458216  0.26232512]]\n"
     ]
    }
   ],
   "source": [
    "matrix_w = np.hstack((eig_pairs[0][1].reshape(10,1), \n",
    "                      eig_pairs[1][1].reshape(10,1)))\n",
    "\n",
    "print('Matrix W:\\n', matrix_w)"
   ]
  },
  {
   "cell_type": "code",
   "execution_count": 15,
   "metadata": {
    "collapsed": true
   },
   "outputs": [],
   "source": [
    "Y = X_std.dot(matrix_w)"
   ]
  },
  {
   "cell_type": "code",
   "execution_count": 22,
   "metadata": {
    "collapsed": false
   },
   "outputs": [
    {
     "data": {
      "text/html": [
       "<iframe id=\"igraph\" scrolling=\"no\" style=\"border:none;\" seamless=\"seamless\" src=\"https://plot.ly/~kachri/111.embed\" height=\"525px\" width=\"100%\"></iframe>"
      ],
      "text/plain": [
       "<plotly.tools.PlotlyDisplay object>"
      ]
     },
     "execution_count": 22,
     "metadata": {},
     "output_type": "execute_result"
    }
   ],
   "source": [
    "traces = []\n",
    "\n",
    "for name in data.index:\n",
    "\n",
    "    trace = Scatter(\n",
    "        x=Y[y==name,0],\n",
    "        y=Y[y==name,1],\n",
    "        mode='markers',\n",
    "        name=name,\n",
    "        marker=Marker(\n",
    "            size=12,\n",
    "            line=Line(\n",
    "                color='rgba(217, 217, 217, 0.14)',\n",
    "                width=0.5),\n",
    "            opacity=0.8))\n",
    "    traces.append(trace)\n",
    "\n",
    "\n",
    "df = Data(traces)\n",
    "layout = Layout(showlegend=True,\n",
    "                scene=Scene(xaxis=XAxis(title=\"PC1\"),\n",
    "                yaxis=YAxis(title=\"PC2\"),))\n",
    "\n",
    "fig = Figure(data=df, layout=layout)\n",
    "py.iplot(fig)"
   ]
  },
  {
   "cell_type": "code",
   "execution_count": 23,
   "metadata": {
    "collapsed": false
   },
   "outputs": [],
   "source": [
    "from sklearn.decomposition import PCA\n",
    "pca = PCA(n_components=2)\n",
    "X_reduced = pca.fit_transform(X_std)"
   ]
  },
  {
   "cell_type": "code",
   "execution_count": 24,
   "metadata": {
    "collapsed": false
   },
   "outputs": [
    {
     "data": {
      "text/plain": [
       "array([[ 0.01047267,  0.18814537],\n",
       "       [-1.17405132, -1.01899537],\n",
       "       [ 0.65643089,  1.85703111],\n",
       "       [ 0.55837291, -2.396556  ],\n",
       "       [-3.43978253, -0.91803737],\n",
       "       [-1.35449734,  2.75257875],\n",
       "       [ 3.34698557,  0.07143122],\n",
       "       [ 1.39606915, -0.53559772]])"
      ]
     },
     "execution_count": 24,
     "metadata": {},
     "output_type": "execute_result"
    }
   ],
   "source": [
    "coef = pca.transform(X_std)\n",
    "coef"
   ]
  },
  {
   "cell_type": "code",
   "execution_count": 25,
   "metadata": {
    "collapsed": false
   },
   "outputs": [
    {
     "data": {
      "text/html": [
       "<div>\n",
       "<table border=\"1\" class=\"dataframe\">\n",
       "  <thead>\n",
       "    <tr style=\"text-align: right;\">\n",
       "      <th></th>\n",
       "      <th>PC 1</th>\n",
       "      <th>PC 2</th>\n",
       "    </tr>\n",
       "    <tr>\n",
       "      <th>Rooms</th>\n",
       "      <th></th>\n",
       "      <th></th>\n",
       "    </tr>\n",
       "  </thead>\n",
       "  <tbody>\n",
       "    <tr>\n",
       "      <th>energy_room_1</th>\n",
       "      <td>0.010473</td>\n",
       "      <td>0.188145</td>\n",
       "    </tr>\n",
       "    <tr>\n",
       "      <th>energy_room_2</th>\n",
       "      <td>-1.174051</td>\n",
       "      <td>-1.018995</td>\n",
       "    </tr>\n",
       "    <tr>\n",
       "      <th>energy_room_3</th>\n",
       "      <td>0.656431</td>\n",
       "      <td>1.857031</td>\n",
       "    </tr>\n",
       "    <tr>\n",
       "      <th>energy_room_4</th>\n",
       "      <td>0.558373</td>\n",
       "      <td>-2.396556</td>\n",
       "    </tr>\n",
       "    <tr>\n",
       "      <th>energy_room_5</th>\n",
       "      <td>-3.439783</td>\n",
       "      <td>-0.918037</td>\n",
       "    </tr>\n",
       "    <tr>\n",
       "      <th>energy_room_6</th>\n",
       "      <td>-1.354497</td>\n",
       "      <td>2.752579</td>\n",
       "    </tr>\n",
       "    <tr>\n",
       "      <th>energy_room_7</th>\n",
       "      <td>3.346986</td>\n",
       "      <td>0.071431</td>\n",
       "    </tr>\n",
       "    <tr>\n",
       "      <th>energy_room_8</th>\n",
       "      <td>1.396069</td>\n",
       "      <td>-0.535598</td>\n",
       "    </tr>\n",
       "  </tbody>\n",
       "</table>\n",
       "</div>"
      ],
      "text/plain": [
       "                   PC 1      PC 2\n",
       "Rooms                            \n",
       "energy_room_1  0.010473  0.188145\n",
       "energy_room_2 -1.174051 -1.018995\n",
       "energy_room_3  0.656431  1.857031\n",
       "energy_room_4  0.558373 -2.396556\n",
       "energy_room_5 -3.439783 -0.918037\n",
       "energy_room_6 -1.354497  2.752579\n",
       "energy_room_7  3.346986  0.071431\n",
       "energy_room_8  1.396069 -0.535598"
      ]
     },
     "execution_count": 25,
     "metadata": {},
     "output_type": "execute_result"
    }
   ],
   "source": [
    "relations = pd.DataFrame(coef, columns=['PC 1', 'PC 2'], index=np.transpose(data).columns)\n",
    "relations"
   ]
  },
  {
   "cell_type": "code",
   "execution_count": 27,
   "metadata": {
    "collapsed": false
   },
   "outputs": [
    {
     "data": {
      "text/plain": [
       "array([[ 0.07075857,  0.33664787],\n",
       "       [ 0.35945812, -0.3652667 ],\n",
       "       [ 0.04583256,  0.07648281],\n",
       "       [-0.43137629,  0.02866331],\n",
       "       [-0.41210248, -0.22970382],\n",
       "       [-0.25600122, -0.49268999],\n",
       "       [ 0.31715552, -0.4475181 ],\n",
       "       [ 0.08992641,  0.09897584],\n",
       "       [ 0.3562479 ,  0.414954  ],\n",
       "       [-0.45458216,  0.26232512]])"
      ]
     },
     "execution_count": 27,
     "metadata": {},
     "output_type": "execute_result"
    }
   ],
   "source": [
    "comp = np.transpose(pca.components_)\n",
    "comp"
   ]
  },
  {
   "cell_type": "code",
   "execution_count": 29,
   "metadata": {
    "collapsed": false
   },
   "outputs": [
    {
     "data": {
      "text/html": [
       "<div>\n",
       "<table border=\"1\" class=\"dataframe\">\n",
       "  <thead>\n",
       "    <tr style=\"text-align: right;\">\n",
       "      <th></th>\n",
       "      <th>PC 1</th>\n",
       "      <th>PC 2</th>\n",
       "    </tr>\n",
       "  </thead>\n",
       "  <tbody>\n",
       "    <tr>\n",
       "      <th>Active_energy</th>\n",
       "      <td>0.070759</td>\n",
       "      <td>0.336648</td>\n",
       "    </tr>\n",
       "    <tr>\n",
       "      <th>Reactive_inductive_energy</th>\n",
       "      <td>0.359458</td>\n",
       "      <td>-0.365267</td>\n",
       "    </tr>\n",
       "    <tr>\n",
       "      <th>Reactive_Capacitive_energy</th>\n",
       "      <td>0.045833</td>\n",
       "      <td>0.076483</td>\n",
       "    </tr>\n",
       "    <tr>\n",
       "      <th>Reactive_energy</th>\n",
       "      <td>-0.431376</td>\n",
       "      <td>0.028663</td>\n",
       "    </tr>\n",
       "    <tr>\n",
       "      <th>Aparent_energy</th>\n",
       "      <td>-0.412102</td>\n",
       "      <td>-0.229704</td>\n",
       "    </tr>\n",
       "    <tr>\n",
       "      <th>Active_power</th>\n",
       "      <td>-0.256001</td>\n",
       "      <td>-0.492690</td>\n",
       "    </tr>\n",
       "    <tr>\n",
       "      <th>Reactive_power</th>\n",
       "      <td>0.317156</td>\n",
       "      <td>-0.447518</td>\n",
       "    </tr>\n",
       "    <tr>\n",
       "      <th>Aparent_power</th>\n",
       "      <td>0.089926</td>\n",
       "      <td>0.098976</td>\n",
       "    </tr>\n",
       "    <tr>\n",
       "      <th>Temperature</th>\n",
       "      <td>0.356248</td>\n",
       "      <td>0.414954</td>\n",
       "    </tr>\n",
       "    <tr>\n",
       "      <th>Fan_speed</th>\n",
       "      <td>-0.454582</td>\n",
       "      <td>0.262325</td>\n",
       "    </tr>\n",
       "  </tbody>\n",
       "</table>\n",
       "</div>"
      ],
      "text/plain": [
       "                                PC 1      PC 2\n",
       "Active_energy               0.070759  0.336648\n",
       "Reactive_inductive_energy   0.359458 -0.365267\n",
       "Reactive_Capacitive_energy  0.045833  0.076483\n",
       "Reactive_energy            -0.431376  0.028663\n",
       "Aparent_energy             -0.412102 -0.229704\n",
       "Active_power               -0.256001 -0.492690\n",
       "Reactive_power              0.317156 -0.447518\n",
       "Aparent_power               0.089926  0.098976\n",
       "Temperature                 0.356248  0.414954\n",
       "Fan_speed                  -0.454582  0.262325"
      ]
     },
     "execution_count": 29,
     "metadata": {},
     "output_type": "execute_result"
    }
   ],
   "source": [
    "components = pd.DataFrame(comp, columns=['PC 1', 'PC 2'], index=data.columns)\n",
    "components"
   ]
  },
  {
   "cell_type": "code",
   "execution_count": 30,
   "metadata": {
    "collapsed": false
   },
   "outputs": [],
   "source": [
    "comp_series = pd.DataFrame(np.transpose(pca.components_))"
   ]
  },
  {
   "cell_type": "code",
   "execution_count": 31,
   "metadata": {
    "collapsed": false
   },
   "outputs": [
    {
     "data": {
      "image/png": "[encoded data removed]",
      "text/plain": [
       "<matplotlib.figure.Figure at 0x1a1f9efcf60>"
      ]
     },
     "metadata": {},
     "output_type": "display_data"
    }
   ],
   "source": [
    "x_labels = [\"Active energy\", \"Reactive inductive energy\", \"Reactive Capacitive energy\", \"Reactive energy\",\n",
    "            \"Aparent energy\", \"Active power\", \"Reactive power\", \"Aparent power\", \"Temperature\", \"Fan speed\"]\n",
    "\n",
    "plt.figure(figsize=(15, 5))\n",
    "ax = comp_series[:][0].plot(kind='bar',colormap=\"binary\")\n",
    "ax.set_title(\"Loading vector\")\n",
    "ax.set_ylabel(\"Component 1 (36.17%)\")\n",
    "ax.set_xticklabels(x_labels)\n",
    "\n",
    "rects = ax.patches\n"
   ]
  },
  {
   "cell_type": "code",
   "execution_count": 32,
   "metadata": {
    "collapsed": false
   },
   "outputs": [
    {
     "data": {
      "image/png": "[encoded data removed]",
      "text/plain": [
       "<matplotlib.figure.Figure at 0x1a1f9efcf28>"
      ]
     },
     "metadata": {},
     "output_type": "display_data"
    }
   ],
   "source": [
    "x_labels = [\"Active energy\", \"Reactive inductive energy\", \"Reactive Capacitive energy\", \"Reactive energy\",\n",
    "            \"Aparent energy\", \"Active power\", \"Reactive power\", \"Aparent power\", \"Temperature\", \"Fan speed\"]\n",
    "\n",
    "plt.figure(figsize=(15, 5))\n",
    "ax = comp_series[:][1].plot(kind='bar',colormap=\"binary\")\n",
    "ax.set_title(\"Loading vector\")\n",
    "ax.set_ylabel(\"Component 2 (32.72%)\")\n",
    "ax.set_xticklabels(x_labels)\n",
    "\n",
    "rects = ax.patches\n"
   ]
  }
 ],
 "metadata": {
  "kernelspec": {
   "display_name": "Python [Root]",
   "language": "python",
   "name": "Python [Root]"
  }
 },
 "nbformat": 4,
 "nbformat_minor": 0
}
