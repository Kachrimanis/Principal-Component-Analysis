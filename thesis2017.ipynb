{
 "cells": [
  {
   "cell_type": "code",
   "execution_count": 41,
   "metadata": {
    "collapsed": true
   },
   "outputs": [],
   "source": [
    "import pandas as pd\n",
    "import numpy as np\n",
    "import matplotlib.pyplot as plt\n",
    "%matplotlib inline\n",
    "import pylab as pl\n",
    "import seaborn as sns\n"
   ]
  },
  {
   "cell_type": "code",
   "execution_count": 2,
   "metadata": {
    "collapsed": false
   },
   "outputs": [
    {
     "data": {
      "text/html": [
       "<div>\n",
       "<table border=\"1\" class=\"dataframe\">\n",
       "  <thead>\n",
       "    <tr style=\"text-align: right;\">\n",
       "      <th></th>\n",
       "      <th>Buildings</th>\n",
       "      <th>Direct_Light</th>\n",
       "      <th>Wind_Velocity</th>\n",
       "      <th>Wind_Direction</th>\n",
       "      <th>Electricity_Consumption</th>\n",
       "      <th>Air_Humidity</th>\n",
       "      <th>Year_of_Construction</th>\n",
       "      <th>Number_of_People</th>\n",
       "      <th>Air_Temperature</th>\n",
       "      <th>Fan_speed</th>\n",
       "    </tr>\n",
       "  </thead>\n",
       "  <tbody>\n",
       "    <tr>\n",
       "      <th>0</th>\n",
       "      <td>Building_1</td>\n",
       "      <td>185.61</td>\n",
       "      <td>4.46</td>\n",
       "      <td>160</td>\n",
       "      <td>18.54</td>\n",
       "      <td>55</td>\n",
       "      <td>2012</td>\n",
       "      <td>43</td>\n",
       "      <td>25.2</td>\n",
       "      <td>2.0</td>\n",
       "    </tr>\n",
       "    <tr>\n",
       "      <th>1</th>\n",
       "      <td>Building_2</td>\n",
       "      <td>275.20</td>\n",
       "      <td>3.42</td>\n",
       "      <td>223</td>\n",
       "      <td>21.74</td>\n",
       "      <td>61</td>\n",
       "      <td>2008</td>\n",
       "      <td>52</td>\n",
       "      <td>24.5</td>\n",
       "      <td>2.1</td>\n",
       "    </tr>\n",
       "    <tr>\n",
       "      <th>2</th>\n",
       "      <td>Building_3</td>\n",
       "      <td>513.74</td>\n",
       "      <td>5.52</td>\n",
       "      <td>185</td>\n",
       "      <td>31.22</td>\n",
       "      <td>68</td>\n",
       "      <td>1975</td>\n",
       "      <td>112</td>\n",
       "      <td>26.7</td>\n",
       "      <td>1.8</td>\n",
       "    </tr>\n",
       "    <tr>\n",
       "      <th>3</th>\n",
       "      <td>Building_4</td>\n",
       "      <td>376.40</td>\n",
       "      <td>6.17</td>\n",
       "      <td>23</td>\n",
       "      <td>25.62</td>\n",
       "      <td>65</td>\n",
       "      <td>1998</td>\n",
       "      <td>75</td>\n",
       "      <td>23.9</td>\n",
       "      <td>1.5</td>\n",
       "    </tr>\n",
       "    <tr>\n",
       "      <th>4</th>\n",
       "      <td>Building_5</td>\n",
       "      <td>454.88</td>\n",
       "      <td>7.25</td>\n",
       "      <td>82</td>\n",
       "      <td>26.35</td>\n",
       "      <td>61</td>\n",
       "      <td>1987</td>\n",
       "      <td>69</td>\n",
       "      <td>24.2</td>\n",
       "      <td>2.2</td>\n",
       "    </tr>\n",
       "    <tr>\n",
       "      <th>5</th>\n",
       "      <td>Building_6</td>\n",
       "      <td>462.62</td>\n",
       "      <td>4.40</td>\n",
       "      <td>27</td>\n",
       "      <td>23.16</td>\n",
       "      <td>65</td>\n",
       "      <td>1992</td>\n",
       "      <td>31</td>\n",
       "      <td>25.6</td>\n",
       "      <td>2.5</td>\n",
       "    </tr>\n",
       "    <tr>\n",
       "      <th>6</th>\n",
       "      <td>Building_7</td>\n",
       "      <td>244.15</td>\n",
       "      <td>6.80</td>\n",
       "      <td>112</td>\n",
       "      <td>20.40</td>\n",
       "      <td>59</td>\n",
       "      <td>2009</td>\n",
       "      <td>89</td>\n",
       "      <td>27.0</td>\n",
       "      <td>1.1</td>\n",
       "    </tr>\n",
       "    <tr>\n",
       "      <th>7</th>\n",
       "      <td>Building_8</td>\n",
       "      <td>312.00</td>\n",
       "      <td>3.32</td>\n",
       "      <td>140</td>\n",
       "      <td>24.05</td>\n",
       "      <td>63</td>\n",
       "      <td>2001</td>\n",
       "      <td>45</td>\n",
       "      <td>25.9</td>\n",
       "      <td>1.6</td>\n",
       "    </tr>\n",
       "  </tbody>\n",
       "</table>\n",
       "</div>"
      ],
      "text/plain": [
       "    Buildings  Direct_Light  Wind_Velocity  Wind_Direction  \\\n",
       "0  Building_1        185.61           4.46             160   \n",
       "1  Building_2        275.20           3.42             223   \n",
       "2  Building_3        513.74           5.52             185   \n",
       "3  Building_4        376.40           6.17              23   \n",
       "4  Building_5        454.88           7.25              82   \n",
       "5  Building_6        462.62           4.40              27   \n",
       "6  Building_7        244.15           6.80             112   \n",
       "7  Building_8        312.00           3.32             140   \n",
       "\n",
       "   Electricity_Consumption  Air_Humidity  Year_of_Construction  \\\n",
       "0                    18.54            55                  2012   \n",
       "1                    21.74            61                  2008   \n",
       "2                    31.22            68                  1975   \n",
       "3                    25.62            65                  1998   \n",
       "4                    26.35            61                  1987   \n",
       "5                    23.16            65                  1992   \n",
       "6                    20.40            59                  2009   \n",
       "7                    24.05            63                  2001   \n",
       "\n",
       "   Number_of_People  Air_Temperature  Fan_speed  \n",
       "0                43             25.2        2.0  \n",
       "1                52             24.5        2.1  \n",
       "2               112             26.7        1.8  \n",
       "3                75             23.9        1.5  \n",
       "4                69             24.2        2.2  \n",
       "5                31             25.6        2.5  \n",
       "6                89             27.0        1.1  \n",
       "7                45             25.9        1.6  "
      ]
     },
     "execution_count": 2,
     "metadata": {},
     "output_type": "execute_result"
    }
   ],
   "source": [
    "data = pd.read_csv(\"thesis_data\")\n",
    "data"
   ]
  },
  {
   "cell_type": "code",
   "execution_count": 3,
   "metadata": {
    "collapsed": false
   },
   "outputs": [
    {
     "data": {
      "text/html": [
       "<div>\n",
       "<table border=\"1\" class=\"dataframe\">\n",
       "  <thead>\n",
       "    <tr style=\"text-align: right;\">\n",
       "      <th></th>\n",
       "      <th>Direct_Light</th>\n",
       "      <th>Wind_Velocity</th>\n",
       "      <th>Wind_Direction</th>\n",
       "      <th>Electricity_Consumption</th>\n",
       "      <th>Air_Humidity</th>\n",
       "      <th>Year_of_Construction</th>\n",
       "      <th>Number_of_People</th>\n",
       "      <th>Air_Temperature</th>\n",
       "      <th>Fan_speed</th>\n",
       "    </tr>\n",
       "    <tr>\n",
       "      <th>Buildings</th>\n",
       "      <th></th>\n",
       "      <th></th>\n",
       "      <th></th>\n",
       "      <th></th>\n",
       "      <th></th>\n",
       "      <th></th>\n",
       "      <th></th>\n",
       "      <th></th>\n",
       "      <th></th>\n",
       "    </tr>\n",
       "  </thead>\n",
       "  <tbody>\n",
       "    <tr>\n",
       "      <th>Building_1</th>\n",
       "      <td>185.61</td>\n",
       "      <td>4.46</td>\n",
       "      <td>160</td>\n",
       "      <td>18.54</td>\n",
       "      <td>55</td>\n",
       "      <td>2012</td>\n",
       "      <td>43</td>\n",
       "      <td>25.2</td>\n",
       "      <td>2.0</td>\n",
       "    </tr>\n",
       "    <tr>\n",
       "      <th>Building_2</th>\n",
       "      <td>275.20</td>\n",
       "      <td>3.42</td>\n",
       "      <td>223</td>\n",
       "      <td>21.74</td>\n",
       "      <td>61</td>\n",
       "      <td>2008</td>\n",
       "      <td>52</td>\n",
       "      <td>24.5</td>\n",
       "      <td>2.1</td>\n",
       "    </tr>\n",
       "    <tr>\n",
       "      <th>Building_3</th>\n",
       "      <td>513.74</td>\n",
       "      <td>5.52</td>\n",
       "      <td>185</td>\n",
       "      <td>31.22</td>\n",
       "      <td>68</td>\n",
       "      <td>1975</td>\n",
       "      <td>112</td>\n",
       "      <td>26.7</td>\n",
       "      <td>1.8</td>\n",
       "    </tr>\n",
       "    <tr>\n",
       "      <th>Building_4</th>\n",
       "      <td>376.40</td>\n",
       "      <td>6.17</td>\n",
       "      <td>23</td>\n",
       "      <td>25.62</td>\n",
       "      <td>65</td>\n",
       "      <td>1998</td>\n",
       "      <td>75</td>\n",
       "      <td>23.9</td>\n",
       "      <td>1.5</td>\n",
       "    </tr>\n",
       "    <tr>\n",
       "      <th>Building_5</th>\n",
       "      <td>454.88</td>\n",
       "      <td>7.25</td>\n",
       "      <td>82</td>\n",
       "      <td>26.35</td>\n",
       "      <td>61</td>\n",
       "      <td>1987</td>\n",
       "      <td>69</td>\n",
       "      <td>24.2</td>\n",
       "      <td>2.2</td>\n",
       "    </tr>\n",
       "    <tr>\n",
       "      <th>Building_6</th>\n",
       "      <td>462.62</td>\n",
       "      <td>4.40</td>\n",
       "      <td>27</td>\n",
       "      <td>23.16</td>\n",
       "      <td>65</td>\n",
       "      <td>1992</td>\n",
       "      <td>31</td>\n",
       "      <td>25.6</td>\n",
       "      <td>2.5</td>\n",
       "    </tr>\n",
       "    <tr>\n",
       "      <th>Building_7</th>\n",
       "      <td>244.15</td>\n",
       "      <td>6.80</td>\n",
       "      <td>112</td>\n",
       "      <td>20.40</td>\n",
       "      <td>59</td>\n",
       "      <td>2009</td>\n",
       "      <td>89</td>\n",
       "      <td>27.0</td>\n",
       "      <td>1.1</td>\n",
       "    </tr>\n",
       "    <tr>\n",
       "      <th>Building_8</th>\n",
       "      <td>312.00</td>\n",
       "      <td>3.32</td>\n",
       "      <td>140</td>\n",
       "      <td>24.05</td>\n",
       "      <td>63</td>\n",
       "      <td>2001</td>\n",
       "      <td>45</td>\n",
       "      <td>25.9</td>\n",
       "      <td>1.6</td>\n",
       "    </tr>\n",
       "  </tbody>\n",
       "</table>\n",
       "</div>"
      ],
      "text/plain": [
       "            Direct_Light  Wind_Velocity  Wind_Direction  \\\n",
       "Buildings                                                 \n",
       "Building_1        185.61           4.46             160   \n",
       "Building_2        275.20           3.42             223   \n",
       "Building_3        513.74           5.52             185   \n",
       "Building_4        376.40           6.17              23   \n",
       "Building_5        454.88           7.25              82   \n",
       "Building_6        462.62           4.40              27   \n",
       "Building_7        244.15           6.80             112   \n",
       "Building_8        312.00           3.32             140   \n",
       "\n",
       "            Electricity_Consumption  Air_Humidity  Year_of_Construction  \\\n",
       "Buildings                                                                 \n",
       "Building_1                    18.54            55                  2012   \n",
       "Building_2                    21.74            61                  2008   \n",
       "Building_3                    31.22            68                  1975   \n",
       "Building_4                    25.62            65                  1998   \n",
       "Building_5                    26.35            61                  1987   \n",
       "Building_6                    23.16            65                  1992   \n",
       "Building_7                    20.40            59                  2009   \n",
       "Building_8                    24.05            63                  2001   \n",
       "\n",
       "            Number_of_People  Air_Temperature  Fan_speed  \n",
       "Buildings                                                 \n",
       "Building_1                43             25.2        2.0  \n",
       "Building_2                52             24.5        2.1  \n",
       "Building_3               112             26.7        1.8  \n",
       "Building_4                75             23.9        1.5  \n",
       "Building_5                69             24.2        2.2  \n",
       "Building_6                31             25.6        2.5  \n",
       "Building_7                89             27.0        1.1  \n",
       "Building_8                45             25.9        1.6  "
      ]
     },
     "execution_count": 3,
     "metadata": {},
     "output_type": "execute_result"
    }
   ],
   "source": [
    "data = data.set_index(\"Buildings\")\n",
    "data"
   ]
  },
  {
   "cell_type": "code",
   "execution_count": 4,
   "metadata": {
    "collapsed": false
   },
   "outputs": [
    {
     "data": {
      "image/png": "[encoded data removed]",
      "text/plain": [
       "<matplotlib.figure.Figure at 0x1879be2d710>"
      ]
     },
     "metadata": {},
     "output_type": "display_data"
    }
   ],
   "source": [
    "plt.figure()\n",
    "plt.plot(data.Direct_Light, data.Electricity_Consumption, 'o')\n",
    "plt.margins(0.1)\n",
    "plt.title(\"Direct Light vs Electricity Comsumption\", weight='bold')\n",
    "plt.xlabel(\"Direct Light\")\n",
    "plt.ylabel(\"Electricity Comsumption\")\n",
    "plt.show()"
   ]
  },
  {
   "cell_type": "code",
   "execution_count": 15,
   "metadata": {
    "collapsed": false
   },
   "outputs": [
    {
     "data": {
      "image/png": "[encoded data removed]",
      "text/plain": [
       "<matplotlib.figure.Figure at 0x254e378b390>"
      ]
     },
     "metadata": {},
     "output_type": "display_data"
    }
   ],
   "source": [
    "plt.figure()\n",
    "plt.plot(data.Wind_Velocity, data.Electricity_Consumption, 'o')\n",
    "plt.margins(0.1)\n",
    "plt.title(\"Wind Velocity vs Electricity Comsumption\", weight='bold')\n",
    "plt.xlabel(\"Wind Velocity\")\n",
    "plt.ylabel(\"Electricity Comsumption\")\n",
    "plt.show()"
   ]
  },
  {
   "cell_type": "code",
   "execution_count": 16,
   "metadata": {
    "collapsed": false
   },
   "outputs": [
    {
     "data": {
      "image/png": "[encoded data removed]",
      "text/plain": [
       "<matplotlib.figure.Figure at 0x254e383ac18>"
      ]
     },
     "metadata": {},
     "output_type": "display_data"
    }
   ],
   "source": [
    "plt.figure()\n",
    "plt.plot(data.Wind_Direction, data.Electricity_Consumption, 'o')\n",
    "plt.margins(0.1)\n",
    "plt.title(\"Wind Direction vs Electricity Comsumption\", weight='bold')\n",
    "plt.xlabel(\"Wind Direction\")\n",
    "plt.ylabel(\"Electricity Comsumption\")\n",
    "plt.show()"
   ]
  },
  {
   "cell_type": "code",
   "execution_count": 17,
   "metadata": {
    "collapsed": false
   },
   "outputs": [
    {
     "data": {
      "image/png": "[encoded data removed]",
      "text/plain": [
       "<matplotlib.figure.Figure at 0x254e385af28>"
      ]
     },
     "metadata": {},
     "output_type": "display_data"
    }
   ],
   "source": [
    "plt.figure()\n",
    "plt.plot(data.Air_Humidity, data.Electricity_Consumption, 'o')\n",
    "plt.margins(0.1)\n",
    "plt.title(\"Air Humidity vs Electricity Comsumption\", weight='bold')\n",
    "plt.xlabel(\"Air Humidity\")\n",
    "plt.ylabel(\"Electricity Comsumption\")\n",
    "plt.show()"
   ]
  },
  {
   "cell_type": "code",
   "execution_count": 18,
   "metadata": {
    "collapsed": false
   },
   "outputs": [
    {
     "data": {
      "image/png": "[encoded data removed]",
      "text/plain": [
       "<matplotlib.figure.Figure at 0x254e3906f98>"
      ]
     },
     "metadata": {},
     "output_type": "display_data"
    }
   ],
   "source": [
    "plt.figure()\n",
    "plt.plot(data.Year_of_Construction, data.Electricity_Consumption, 'o')\n",
    "plt.margins(0.1)\n",
    "plt.title(\"Year of Construction vs Electricity Comsumption\", weight='bold')\n",
    "plt.xlabel(\"Year of Construction\")\n",
    "plt.ylabel(\"Electricity Comsumption\")\n",
    "plt.show()"
   ]
  },
  {
   "cell_type": "code",
   "execution_count": 19,
   "metadata": {
    "collapsed": false
   },
   "outputs": [
    {
     "data": {
      "image/png": "[encoded data removed]",
      "text/plain": [
       "<matplotlib.figure.Figure at 0x254e3928d68>"
      ]
     },
     "metadata": {},
     "output_type": "display_data"
    }
   ],
   "source": [
    "plt.figure()\n",
    "plt.plot(data.Number_of_People, data.Electricity_Consumption, 'o')\n",
    "plt.margins(0.1)\n",
    "plt.title(\"Number of People vs Electricity Comsumption\", weight='bold')\n",
    "plt.xlabel(\"Number of People\")\n",
    "plt.ylabel(\"Electricity Comsumption\")\n",
    "plt.show()"
   ]
  },
  {
   "cell_type": "code",
   "execution_count": 20,
   "metadata": {
    "collapsed": false
   },
   "outputs": [
    {
     "data": {
      "image/png": "[encoded data removed]",
      "text/plain": [
       "<matplotlib.figure.Figure at 0x254e39d1f98>"
      ]
     },
     "metadata": {},
     "output_type": "display_data"
    }
   ],
   "source": [
    "plt.figure()\n",
    "plt.plot(data.Air_Temperature, data.Electricity_Consumption, 'o')\n",
    "plt.margins(0.1)\n",
    "plt.title(\"Air Temperature vs Electricity Comsumption\", weight='bold')\n",
    "plt.xlabel(\"Air Temperature\")\n",
    "plt.ylabel(\"Electricity Comsumption\")\n",
    "plt.show()"
   ]
  },
  {
   "cell_type": "code",
   "execution_count": 21,
   "metadata": {
    "collapsed": false
   },
   "outputs": [
    {
     "data": {
      "image/png": "[encoded data removed]",
      "text/plain": [
       "<matplotlib.figure.Figure at 0x254e399f940>"
      ]
     },
     "metadata": {},
     "output_type": "display_data"
    }
   ],
   "source": [
    "plt.figure()\n",
    "plt.plot(data.Fan_speed, data.Electricity_Consumption, 'o')\n",
    "plt.margins(0.1)\n",
    "plt.title(\"Fan speed vs Electricity Comsumption\", weight='bold')\n",
    "plt.xlabel(\"Fan speed\")\n",
    "plt.ylabel(\"Electricity Comsumption\")\n",
    "plt.show()"
   ]
  },
  {
   "cell_type": "code",
   "execution_count": 5,
   "metadata": {
    "collapsed": false
   },
   "outputs": [
    {
     "name": "stdout",
     "output_type": "stream",
     "text": [
      "[[  1.85610000e+02   4.46000000e+00   1.60000000e+02   1.85400000e+01\n",
      "    5.50000000e+01   2.01200000e+03   4.30000000e+01   2.52000000e+01\n",
      "    2.00000000e+00]\n",
      " [  2.75200000e+02   3.42000000e+00   2.23000000e+02   2.17400000e+01\n",
      "    6.10000000e+01   2.00800000e+03   5.20000000e+01   2.45000000e+01\n",
      "    2.10000000e+00]\n",
      " [  5.13740000e+02   5.52000000e+00   1.85000000e+02   3.12200000e+01\n",
      "    6.80000000e+01   1.97500000e+03   1.12000000e+02   2.67000000e+01\n",
      "    1.80000000e+00]\n",
      " [  3.76400000e+02   6.17000000e+00   2.30000000e+01   2.56200000e+01\n",
      "    6.50000000e+01   1.99800000e+03   7.50000000e+01   2.39000000e+01\n",
      "    1.50000000e+00]\n",
      " [  4.54880000e+02   7.25000000e+00   8.20000000e+01   2.63500000e+01\n",
      "    6.10000000e+01   1.98700000e+03   6.90000000e+01   2.42000000e+01\n",
      "    2.20000000e+00]\n",
      " [  4.62620000e+02   4.40000000e+00   2.70000000e+01   2.31600000e+01\n",
      "    6.50000000e+01   1.99200000e+03   3.10000000e+01   2.56000000e+01\n",
      "    2.50000000e+00]\n",
      " [  2.44150000e+02   6.80000000e+00   1.12000000e+02   2.04000000e+01\n",
      "    5.90000000e+01   2.00900000e+03   8.90000000e+01   2.70000000e+01\n",
      "    1.10000000e+00]\n",
      " [  3.12000000e+02   3.32000000e+00   1.40000000e+02   2.40500000e+01\n",
      "    6.30000000e+01   2.00100000e+03   4.50000000e+01   2.59000000e+01\n",
      "    1.60000000e+00]]\n",
      "['Building_1' 'Building_2' 'Building_3' 'Building_4' 'Building_5'\n",
      " 'Building_6' 'Building_7' 'Building_8']\n"
     ]
    }
   ],
   "source": [
    "X = data.ix[:,0:9].values\n",
    "y = data.index.values\n",
    "print(X)\n",
    "print(y)"
   ]
  },
  {
   "cell_type": "code",
   "execution_count": 7,
   "metadata": {
    "collapsed": true
   },
   "outputs": [],
   "source": [
    "import plotly.plotly as py\n",
    "from plotly.graph_objs import *\n",
    "import plotly.tools as tls\n",
    "py.sign_in('kachri', 'fUq6YwdDckcYFnWc54VC')"
   ]
  },
  {
   "cell_type": "code",
   "execution_count": 8,
   "metadata": {
    "collapsed": false
   },
   "outputs": [
    {
     "data": {
      "text/plain": [
       "array([[-1.52570271, -0.5052323 ,  0.60789124, -1.44965445, -1.88025651,\n",
       "         1.20894105, -0.85085981, -0.16430838,  0.36115756],\n",
       "       [-0.70948615, -1.24790593,  1.54196804, -0.5817603 , -0.29688261,\n",
       "         0.86958918, -0.49468593, -0.82154192,  0.60192927],\n",
       "       [ 1.46375079,  0.25172351,  0.97855664,  1.98937612,  1.55038694,\n",
       "        -1.93006378,  1.87980655,  1.2440492 , -0.12038585],\n",
       "       [ 0.2125042 ,  0.71589453, -1.42335511,  0.47056136,  0.75869999,\n",
       "         0.02120949,  0.41553619, -1.38488495, -0.84270097],\n",
       "       [ 0.92750225,  1.48713253, -0.54858478,  0.66854971, -0.29688261,\n",
       "        -0.91200816,  0.17808694, -1.10321344,  0.84270097],\n",
       "       [ 0.99801811, -0.54807886, -1.36404865, -0.19663227,  0.75869999,\n",
       "        -0.48781832, -1.3257583 ,  0.21125364,  1.56501609],\n",
       "       [-0.99236956,  1.16578336, -0.10378631, -0.94519097, -0.82467391,\n",
       "         0.95442714,  0.96958443,  1.52572071, -1.8057878 ],\n",
       "       [-0.37421693, -1.31931685,  0.31135893,  0.04475079,  0.23090869,\n",
       "         0.2757234 , -0.77171006,  0.49292515, -0.60192927]])"
      ]
     },
     "execution_count": 8,
     "metadata": {},
     "output_type": "execute_result"
    }
   ],
   "source": [
    "from sklearn.preprocessing import StandardScaler\n",
    "X_std = StandardScaler().fit_transform(X)\n",
    "X_std"
   ]
  },
  {
   "cell_type": "code",
   "execution_count": 9,
   "metadata": {
    "collapsed": false,
    "scrolled": true
   },
   "outputs": [
    {
     "name": "stdout",
     "output_type": "stream",
     "text": [
      "Covariance matrix \n",
      "[[ 1.14285714  0.33513518 -0.39646464  0.99735868  0.96053743 -1.09501962\n",
      "   0.37966422 -0.02152789  0.43248721]\n",
      " [ 0.33513518  1.14285714 -0.51485561  0.31958615  0.01864312 -0.35809222\n",
      "   0.70825563 -0.02830387 -0.3546821 ]\n",
      " [-0.39646464 -0.51485561  1.14285714 -0.06969364 -0.26829802  0.18706174\n",
      "   0.19111659  0.30486518 -0.05252749]\n",
      " [ 0.99735868  0.31958615 -0.06969364  1.14285714  0.96884234 -1.07023725\n",
      "   0.69788409  0.04860119  0.06082355]\n",
      " [ 0.96053743  0.01864312 -0.26829802  0.96884234  1.14285714 -0.90433026\n",
      "   0.41998341  0.11061293  0.08623097]\n",
      " [-1.09501962 -0.35809222  0.18706174 -1.07023725 -0.90433026  1.14285714\n",
      "  -0.55445921 -0.12118908 -0.32098915]\n",
      " [ 0.37966422  0.70825563  0.19111659  0.69788409  0.41998341 -0.55445921\n",
      "   1.14285714  0.41881303 -0.62752045]\n",
      " [-0.02152789 -0.02830387  0.30486518  0.04860119  0.11061293 -0.12118908\n",
      "   0.41881303  1.14285714 -0.455353  ]\n",
      " [ 0.43248721 -0.3546821  -0.05252749  0.06082355  0.08623097 -0.32098915\n",
      "  -0.62752045 -0.455353    1.14285714]]\n"
     ]
    }
   ],
   "source": [
    "mean_vector = np.mean(X_std, axis=0)\n",
    "covar_matrix = (X_std - mean_vector).T.dot((X_std - mean_vector)) / (X_std.shape[0]-1)\n",
    "print('Covariance matrix \\n%s' %covar_matrix)"
   ]
  },
  {
   "cell_type": "code",
   "execution_count": 10,
   "metadata": {
    "collapsed": false
   },
   "outputs": [
    {
     "name": "stdout",
     "output_type": "stream",
     "text": [
      "Eigenvectors \n",
      "[[-0.46491564 -0.21239065  0.00307706 -0.06238421  0.14728252  0.09042768\n",
      "  -0.46498133 -0.10758909  0.24306557]\n",
      " [-0.21101122  0.29042947 -0.59962085  0.24575721  0.36353115  0.09543389\n",
      "  -0.40230355  0.08328969 -0.11055913]\n",
      " [ 0.12892033  0.19322503  0.65231521  0.56363991  0.04577674  0.05305499\n",
      "  -0.41426251 -0.11065777 -0.1544614 ]\n",
      " [-0.47179446  0.00220149  0.13366083  0.16652732 -0.20243824 -0.49380283\n",
      "   0.04551882  0.66426886  0.55035123]\n",
      " [-0.42458333 -0.10327942  0.17462004 -0.30819054 -0.4388631   0.51576493\n",
      "  -0.17074004 -0.03788802 -0.24815287]\n",
      " [ 0.47437389  0.09623856 -0.10276133 -0.06489049 -0.21923828  0.39178185\n",
      "  -0.27511988  0.63990898  0.68221062]\n",
      " [-0.30117674  0.50853169 -0.00271137  0.31048604 -0.0303636   0.43695217\n",
      "   0.52822352  0.01276579  0.1518938 ]\n",
      " [-0.05085815  0.42397744  0.37261658 -0.59380786  0.53779001 -0.01785486\n",
      "  -0.01572272  0.18318179  0.13379109]\n",
      " [-0.0390087  -0.61229922  0.13100576  0.20515547  0.5217949   0.35398682\n",
      "   0.25327539  0.2887068   0.1843585 ]]\n",
      "\n",
      "Eigenvalues \n",
      "[  4.69140798e+00   2.37894062e+00   1.66148403e+00   8.31803110e-01\n",
      "   6.19167215e-01   8.37483937e-02   1.91629362e-02  -1.65892178e-16\n",
      "  -5.08833845e-17]\n"
     ]
    }
   ],
   "source": [
    "covar_matrix = np.cov(X_std.T)\n",
    "\n",
    "eigen_vals, eigen_vecs = np.linalg.eig(covar_matrix)\n",
    "\n",
    "print('Eigenvectors \\n%s' %eigen_vecs)\n",
    "print('\\nEigenvalues \\n%s' %eigen_vals)"
   ]
  },
  {
   "cell_type": "code",
   "execution_count": 28,
   "metadata": {
    "collapsed": false
   },
   "outputs": [],
   "source": [
    "#correlation_matrix1 = np.corrcoef(X_std.T)\n",
    "\n",
    "#eigen_vals, eigen_vecs_vecs = np.linalg.eig(correlation_matrix1)\n",
    "\n",
    "#print('Eigenvectors \\n%s' %eigen_vecs)\n",
    "#print('\\nEigenvalues \\n%s' %eigen_vals)"
   ]
  },
  {
   "cell_type": "code",
   "execution_count": 29,
   "metadata": {
    "collapsed": false
   },
   "outputs": [],
   "source": [
    "#correlation_matrix2 = np.corrcoef(X.T)\n",
    "\n",
    "#eigen_vals, eigen_vecs = np.linalg.eig(correlation_matrix2)\n",
    "\n",
    "#print('Eigenvectors \\n%s' %eigen_vecs)\n",
    "#print('\\nEigenvalues \\n%s' %eigen_vals)"
   ]
  },
  {
   "cell_type": "markdown",
   "metadata": {},
   "source": [
    "We can clearly see that all three approaches yield the same eigenvectors and eigenvalue pairs:\n",
    "    \n",
    "- Eigendecomposition of the covariance matrix after standardizing the data.\n",
    "- Eigendecomposition of the correlation matrix.\n",
    "- Eigendecomposition of the correlation matrix after standardizing the data."
   ]
  },
  {
   "cell_type": "code",
   "execution_count": 11,
   "metadata": {
    "collapsed": false
   },
   "outputs": [
    {
     "name": "stdout",
     "output_type": "stream",
     "text": [
      "Eigenvalues in descending order:\n",
      "4.69140797635\n",
      "2.37894062499\n",
      "1.66148402952\n",
      "0.831803110161\n",
      "0.619167214858\n",
      "0.0837483936743\n",
      "0.0191629361635\n",
      "1.658921776e-16\n",
      "5.0883384456e-17\n"
     ]
    }
   ],
   "source": [
    "eig_pairs = [(np.abs(eigen_vals[i]), eigen_vecs[:,i]) for i in range(len(eigen_vals))]\n",
    "\n",
    "eig_pairs.sort()\n",
    "eig_pairs.reverse()\n",
    "\n",
    "print('Eigenvalues in descending order:')\n",
    "for i in eig_pairs:\n",
    "    print(i[0])"
   ]
  },
  {
   "cell_type": "code",
   "execution_count": 12,
   "metadata": {
    "collapsed": false
   },
   "outputs": [
    {
     "data": {
      "text/html": [
       "<iframe id=\"igraph\" scrolling=\"no\" style=\"border:none;\" seamless=\"seamless\" src=\"https://plot.ly/~kachri/150.embed\" height=\"525px\" width=\"100%\"></iframe>"
      ],
      "text/plain": [
       "<plotly.tools.PlotlyDisplay object>"
      ]
     },
     "execution_count": 12,
     "metadata": {},
     "output_type": "execute_result"
    }
   ],
   "source": [
    "tot = sum(eigen_vals)\n",
    "var_exp = [(i / tot)*100 for i in sorted(eigen_vals, reverse=True)]\n",
    "cum_var_exp = np.cumsum(var_exp)\n",
    "\n",
    "trace1 = Bar(\n",
    "        x=['PC %s' %i for i in range(1,5)],\n",
    "        y=var_exp,\n",
    "        showlegend=False)\n",
    "\n",
    "trace2 = Scatter(\n",
    "        x=['PC %s' %i for i in range(1,5)], \n",
    "        y=cum_var_exp,\n",
    "        name='cumulative explained variance')\n",
    "\n",
    "df = Data([trace1, trace2])\n",
    "\n",
    "layout=Layout(\n",
    "        yaxis=YAxis(title='Explained variance in percent'),\n",
    "        title='Explained variance by different principal components')\n",
    "\n",
    "fig = Figure(data=df, layout=layout)\n",
    "py.iplot(fig)"
   ]
  },
  {
   "cell_type": "code",
   "execution_count": 13,
   "metadata": {
    "collapsed": false
   },
   "outputs": [
    {
     "name": "stdout",
     "output_type": "stream",
     "text": [
      "Matrix W:\n",
      " [[-0.46491564 -0.21239065]\n",
      " [-0.21101122  0.29042947]\n",
      " [ 0.12892033  0.19322503]\n",
      " [-0.47179446  0.00220149]\n",
      " [-0.42458333 -0.10327942]\n",
      " [ 0.47437389  0.09623856]\n",
      " [-0.30117674  0.50853169]\n",
      " [-0.05085815  0.42397744]\n",
      " [-0.0390087  -0.61229922]]\n"
     ]
    }
   ],
   "source": [
    "matrix_w = np.hstack((eig_pairs[0][1].reshape(9,1), \n",
    "                      eig_pairs[1][1].reshape(9,1)))\n",
    "\n",
    "print('Matrix W:\\n', matrix_w)"
   ]
  },
  {
   "cell_type": "code",
   "execution_count": 14,
   "metadata": {
    "collapsed": true
   },
   "outputs": [],
   "source": [
    "Y = X_std.dot(matrix_w)"
   ]
  },
  {
   "cell_type": "code",
   "execution_count": 15,
   "metadata": {
    "collapsed": false
   },
   "outputs": [
    {
     "data": {
      "text/html": [
       "<iframe id=\"igraph\" scrolling=\"no\" style=\"border:none;\" seamless=\"seamless\" src=\"https://plot.ly/~kachri/152.embed\" height=\"525px\" width=\"100%\"></iframe>"
      ],
      "text/plain": [
       "<plotly.tools.PlotlyDisplay object>"
      ]
     },
     "execution_count": 15,
     "metadata": {},
     "output_type": "execute_result"
    }
   ],
   "source": [
    "traces = []\n",
    "\n",
    "for name in data.index:\n",
    "\n",
    "    trace = Scatter(\n",
    "        x=Y[y==name,0],\n",
    "        y=Y[y==name,1],\n",
    "        mode='markers',\n",
    "        name=name,\n",
    "        marker=Marker(\n",
    "            size=12,\n",
    "            line=Line(\n",
    "                color='rgba(217, 217, 217, 0.14)',\n",
    "                width=0.5),\n",
    "            opacity=0.8))\n",
    "    traces.append(trace)\n",
    "\n",
    "\n",
    "df = Data(traces)\n",
    "layout = Layout(showlegend=True,\n",
    "                scene=Scene(xaxis=XAxis(title=\"PC1\"),\n",
    "                yaxis=YAxis(title=\"PC2\"),))\n",
    "\n",
    "fig = Figure(data=df, layout=layout)\n",
    "py.iplot(fig)"
   ]
  },
  {
   "cell_type": "code",
   "execution_count": 16,
   "metadata": {
    "collapsed": false
   },
   "outputs": [],
   "source": [
    "from sklearn.decomposition import PCA\n",
    "pca = PCA(n_components=2)\n",
    "X_reduced = pca.fit_transform(X_std)"
   ]
  },
  {
   "cell_type": "code",
   "execution_count": 17,
   "metadata": {
    "collapsed": false
   },
   "outputs": [
    {
     "data": {
      "text/plain": [
       "array([[ 3.20058416, -0.12137111],\n",
       "       [ 1.77228699, -0.769164  ],\n",
       "       [-3.74462618,  1.1669147 ],\n",
       "       [-0.98928057, -0.04738738],\n",
       "       [-1.46813611, -0.8198826 ],\n",
       "       [-0.65747232, -2.30333569],\n",
       "       [ 1.1516584 ,  2.94985547],\n",
       "       [ 0.73498562, -0.05562941]])"
      ]
     },
     "execution_count": 17,
     "metadata": {},
     "output_type": "execute_result"
    }
   ],
   "source": [
    "coef = pca.transform(X_std)\n",
    "coef"
   ]
  },
  {
   "cell_type": "code",
   "execution_count": 18,
   "metadata": {
    "collapsed": false
   },
   "outputs": [
    {
     "data": {
      "text/html": [
       "<div>\n",
       "<table border=\"1\" class=\"dataframe\">\n",
       "  <thead>\n",
       "    <tr style=\"text-align: right;\">\n",
       "      <th></th>\n",
       "      <th>PC_1</th>\n",
       "      <th>PC_2</th>\n",
       "    </tr>\n",
       "    <tr>\n",
       "      <th>Buildings</th>\n",
       "      <th></th>\n",
       "      <th></th>\n",
       "    </tr>\n",
       "  </thead>\n",
       "  <tbody>\n",
       "    <tr>\n",
       "      <th>Building_1</th>\n",
       "      <td>3.200584</td>\n",
       "      <td>-0.121371</td>\n",
       "    </tr>\n",
       "    <tr>\n",
       "      <th>Building_2</th>\n",
       "      <td>1.772287</td>\n",
       "      <td>-0.769164</td>\n",
       "    </tr>\n",
       "    <tr>\n",
       "      <th>Building_3</th>\n",
       "      <td>-3.744626</td>\n",
       "      <td>1.166915</td>\n",
       "    </tr>\n",
       "    <tr>\n",
       "      <th>Building_4</th>\n",
       "      <td>-0.989281</td>\n",
       "      <td>-0.047387</td>\n",
       "    </tr>\n",
       "    <tr>\n",
       "      <th>Building_5</th>\n",
       "      <td>-1.468136</td>\n",
       "      <td>-0.819883</td>\n",
       "    </tr>\n",
       "    <tr>\n",
       "      <th>Building_6</th>\n",
       "      <td>-0.657472</td>\n",
       "      <td>-2.303336</td>\n",
       "    </tr>\n",
       "    <tr>\n",
       "      <th>Building_7</th>\n",
       "      <td>1.151658</td>\n",
       "      <td>2.949855</td>\n",
       "    </tr>\n",
       "    <tr>\n",
       "      <th>Building_8</th>\n",
       "      <td>0.734986</td>\n",
       "      <td>-0.055629</td>\n",
       "    </tr>\n",
       "  </tbody>\n",
       "</table>\n",
       "</div>"
      ],
      "text/plain": [
       "                PC_1      PC_2\n",
       "Buildings                     \n",
       "Building_1  3.200584 -0.121371\n",
       "Building_2  1.772287 -0.769164\n",
       "Building_3 -3.744626  1.166915\n",
       "Building_4 -0.989281 -0.047387\n",
       "Building_5 -1.468136 -0.819883\n",
       "Building_6 -0.657472 -2.303336\n",
       "Building_7  1.151658  2.949855\n",
       "Building_8  0.734986 -0.055629"
      ]
     },
     "execution_count": 18,
     "metadata": {},
     "output_type": "execute_result"
    }
   ],
   "source": [
    "relations = pd.DataFrame(coef, columns=['PC_1', 'PC_2'], index=np.transpose(data).columns)\n",
    "relations"
   ]
  },
  {
   "cell_type": "code",
   "execution_count": 19,
   "metadata": {
    "collapsed": false
   },
   "outputs": [
    {
     "data": {
      "text/plain": [
       "array([[-0.46491564, -0.21239065],\n",
       "       [-0.21101122,  0.29042947],\n",
       "       [ 0.12892033,  0.19322503],\n",
       "       [-0.47179446,  0.00220149],\n",
       "       [-0.42458333, -0.10327942],\n",
       "       [ 0.47437389,  0.09623856],\n",
       "       [-0.30117674,  0.50853169],\n",
       "       [-0.05085815,  0.42397744],\n",
       "       [-0.0390087 , -0.61229922]])"
      ]
     },
     "execution_count": 19,
     "metadata": {},
     "output_type": "execute_result"
    }
   ],
   "source": [
    "comp = np.transpose(pca.components_)\n",
    "comp"
   ]
  },
  {
   "cell_type": "code",
   "execution_count": 20,
   "metadata": {
    "collapsed": false
   },
   "outputs": [
    {
     "data": {
      "text/html": [
       "<div>\n",
       "<table border=\"1\" class=\"dataframe\">\n",
       "  <thead>\n",
       "    <tr style=\"text-align: right;\">\n",
       "      <th></th>\n",
       "      <th>PC 1</th>\n",
       "      <th>PC 2</th>\n",
       "    </tr>\n",
       "  </thead>\n",
       "  <tbody>\n",
       "    <tr>\n",
       "      <th>Direct_Light</th>\n",
       "      <td>-0.464916</td>\n",
       "      <td>-0.212391</td>\n",
       "    </tr>\n",
       "    <tr>\n",
       "      <th>Wind_Velocity</th>\n",
       "      <td>-0.211011</td>\n",
       "      <td>0.290429</td>\n",
       "    </tr>\n",
       "    <tr>\n",
       "      <th>Wind_Direction</th>\n",
       "      <td>0.128920</td>\n",
       "      <td>0.193225</td>\n",
       "    </tr>\n",
       "    <tr>\n",
       "      <th>Electricity_Consumption</th>\n",
       "      <td>-0.471794</td>\n",
       "      <td>0.002201</td>\n",
       "    </tr>\n",
       "    <tr>\n",
       "      <th>Air_Humidity</th>\n",
       "      <td>-0.424583</td>\n",
       "      <td>-0.103279</td>\n",
       "    </tr>\n",
       "    <tr>\n",
       "      <th>Year_of_Construction</th>\n",
       "      <td>0.474374</td>\n",
       "      <td>0.096239</td>\n",
       "    </tr>\n",
       "    <tr>\n",
       "      <th>Number_of_People</th>\n",
       "      <td>-0.301177</td>\n",
       "      <td>0.508532</td>\n",
       "    </tr>\n",
       "    <tr>\n",
       "      <th>Air_Temperature</th>\n",
       "      <td>-0.050858</td>\n",
       "      <td>0.423977</td>\n",
       "    </tr>\n",
       "    <tr>\n",
       "      <th>Fan_speed</th>\n",
       "      <td>-0.039009</td>\n",
       "      <td>-0.612299</td>\n",
       "    </tr>\n",
       "  </tbody>\n",
       "</table>\n",
       "</div>"
      ],
      "text/plain": [
       "                             PC 1      PC 2\n",
       "Direct_Light            -0.464916 -0.212391\n",
       "Wind_Velocity           -0.211011  0.290429\n",
       "Wind_Direction           0.128920  0.193225\n",
       "Electricity_Consumption -0.471794  0.002201\n",
       "Air_Humidity            -0.424583 -0.103279\n",
       "Year_of_Construction     0.474374  0.096239\n",
       "Number_of_People        -0.301177  0.508532\n",
       "Air_Temperature         -0.050858  0.423977\n",
       "Fan_speed               -0.039009 -0.612299"
      ]
     },
     "execution_count": 20,
     "metadata": {},
     "output_type": "execute_result"
    }
   ],
   "source": [
    "components = pd.DataFrame(comp, columns=['PC 1', 'PC 2'], index=data.columns)\n",
    "components"
   ]
  },
  {
   "cell_type": "code",
   "execution_count": 21,
   "metadata": {
    "collapsed": false
   },
   "outputs": [],
   "source": [
    "comp_series = pd.DataFrame(np.transpose(pca.components_))"
   ]
  },
  {
   "cell_type": "code",
   "execution_count": 22,
   "metadata": {
    "collapsed": false
   },
   "outputs": [
    {
     "data": {
      "image/png": "[encoded data removed]",
      "text/plain": [
       "<matplotlib.figure.Figure at 0x1879e33c048>"
      ]
     },
     "metadata": {},
     "output_type": "display_data"
    }
   ],
   "source": [
    "x_labels = [\"Direct Light\", \"Wind Velocity\", \"Wind Direction\", \"Electricity Consumption\",\n",
    "            \"Air Humidity\", \"Year of Construction\", \"Number of People\", \"Air Temperature\", \"Fan speed\"]\n",
    "\n",
    "plt.figure(figsize=(15, 5))\n",
    "ax = comp_series[:][0].plot(kind='bar',colormap=\"binary\")\n",
    "ax.set_ylabel(\"Component 1 (45.6109%)\")\n",
    "ax.set_xticklabels(x_labels)\n",
    "\n",
    "rects = ax.patches\n"
   ]
  },
  {
   "cell_type": "code",
   "execution_count": 23,
   "metadata": {
    "collapsed": false
   },
   "outputs": [
    {
     "data": {
      "image/png": "[encoded data removed]",
      "text/plain": [
       "<matplotlib.figure.Figure at 0x1879e36a978>"
      ]
     },
     "metadata": {},
     "output_type": "display_data"
    }
   ],
   "source": [
    "x_labels = [\"Direct Light\", \"Wind Velocity\", \"Wind Direction\", \"Electricity Consumption\",\n",
    "            \"Air Humidity\", \"Year of Construction\", \"Number of People\", \"Air Temperature\", \"Fan speed\"]\n",
    "\n",
    "plt.figure(figsize=(15, 5))\n",
    "ax = comp_series[:][1].plot(kind='bar',colormap=\"binary\")\n",
    "ax.set_ylabel(\"Component 2 (23.1285%)\")\n",
    "ax.set_xticklabels(x_labels)\n",
    "\n",
    "rects = ax.patches\n"
   ]
  },
  {
   "cell_type": "code",
   "execution_count": 24,
   "metadata": {
    "collapsed": true
   },
   "outputs": [],
   "source": [
    "from sklearn.cluster import KMeans"
   ]
  },
  {
   "cell_type": "code",
   "execution_count": 26,
   "metadata": {
    "collapsed": false
   },
   "outputs": [
    {
     "name": "stdout",
     "output_type": "stream",
     "text": [
      "[1 1 0 0 0 0 1 1]\n"
     ]
    }
   ],
   "source": [
    "kmeans = KMeans(n_clusters=2).fit(data)\n",
    "print(kmeans.labels_)"
   ]
  },
  {
   "cell_type": "code",
   "execution_count": 51,
   "metadata": {
    "collapsed": false
   },
   "outputs": [
    {
     "name": "stdout",
     "output_type": "stream",
     "text": [
      "[1 1 0 0 0 0 1 1]\n"
     ]
    }
   ],
   "source": [
    "kmeans = KMeans(n_clusters=2).fit(relations)\n",
    "print(kmeans.labels_)"
   ]
  },
  {
   "cell_type": "code",
   "execution_count": 52,
   "metadata": {
    "collapsed": false
   },
   "outputs": [
    {
     "data": {
      "text/plain": [
       "<matplotlib.text.Text at 0x1879e450518>"
      ]
     },
     "execution_count": 52,
     "metadata": {},
     "output_type": "execute_result"
    },
    {
     "data": {
      "image/png": "[encoded data removed]",
      "text/plain": [
       "<matplotlib.figure.Figure at 0x187a0291240>"
      ]
     },
     "metadata": {},
     "output_type": "display_data"
    }
   ],
   "source": [
    "import pylab as pl\n",
    "for i in range(0, relations.shape[0]):\n",
    "    if kmeans.labels_[i] == 0:\n",
    "        c1 = pl.scatter(relations[i,0],relations[i,1],c='r',\n",
    "        marker='+')\n",
    "    elif  kmeans.labels_[i] == 1:\n",
    "        c2 = pl.scatter(relations[i,0],relations[i,1],c='g',\n",
    "        marker='o')\n",
    "\n",
    "pl.legend([c1, c2], ['Cluster 0', 'Cluster 1'])\n",
    "pl.title('Buildings')"
   ]
  },
  {
   "cell_type": "code",
   "execution_count": 141,
   "metadata": {
    "collapsed": false
   },
   "outputs": [
    {
     "name": "stdout",
     "output_type": "stream",
     "text": [
      "[0 0 2 1 1 1 0 0]\n"
     ]
    }
   ],
   "source": [
    "kmeans = KMeans(n_clusters=3).fit(data)\n",
    "print(kmeans.labels_)"
   ]
  },
  {
   "cell_type": "code",
   "execution_count": 53,
   "metadata": {
    "collapsed": false
   },
   "outputs": [
    {
     "name": "stdout",
     "output_type": "stream",
     "text": [
      "[0 0 1 2 2 2 0 0]\n"
     ]
    }
   ],
   "source": [
    "kmeans = KMeans(n_clusters=3).fit(relations)\n",
    "print(kmeans.labels_)"
   ]
  },
  {
   "cell_type": "code",
   "execution_count": 31,
   "metadata": {
    "collapsed": false
   },
   "outputs": [],
   "source": [
    "relations = relations.as_matrix()"
   ]
  },
  {
   "cell_type": "code",
   "execution_count": 54,
   "metadata": {
    "collapsed": false
   },
   "outputs": [
    {
     "data": {
      "text/plain": [
       "<matplotlib.text.Text at 0x1879ea26eb8>"
      ]
     },
     "execution_count": 54,
     "metadata": {},
     "output_type": "execute_result"
    },
    {
     "data": {
      "image/png": "[encoded data removed]",
      "text/plain": [
       "<matplotlib.figure.Figure at 0x187a01b5a58>"
      ]
     },
     "metadata": {},
     "output_type": "display_data"
    }
   ],
   "source": [
    "import pylab as pl\n",
    "for i in range(0, relations.shape[0]):\n",
    "    if kmeans.labels_[i] == 0:\n",
    "        c1 = pl.scatter(relations[i,0],relations[i,1],c='r',\n",
    "        marker='+')\n",
    "    elif  kmeans.labels_[i] == 1:\n",
    "        c2 = pl.scatter(relations[i,0],relations[i,1],c='g',\n",
    "        marker='o')\n",
    "    elif  kmeans.labels_[i] == 2:\n",
    "        c3 = pl.scatter(relations[i,0],relations[i,1],c='b',\n",
    "        marker='*')\n",
    "\n",
    "pl.legend([c1, c2, c3], ['Cluster 0', 'Cluster 1',\n",
    "        'Cluster 2'])\n",
    "pl.title('Buildings')"
   ]
  },
  {
   "cell_type": "code",
   "execution_count": 40,
   "metadata": {
    "collapsed": false
   },
   "outputs": [
    {
     "name": "stdout",
     "output_type": "stream",
     "text": [
      "[0 3 2 1 1 1 0 3]\n"
     ]
    }
   ],
   "source": [
    "kmeans = KMeans(n_clusters=4).fit(data)\n",
    "print(kmeans.labels_)"
   ]
  },
  {
   "cell_type": "code",
   "execution_count": 55,
   "metadata": {
    "collapsed": false
   },
   "outputs": [
    {
     "name": "stdout",
     "output_type": "stream",
     "text": [
      "[1 1 3 0 0 0 2 1]\n"
     ]
    }
   ],
   "source": [
    "kmeans = KMeans(n_clusters=4).fit(relations)\n",
    "print(kmeans.labels_)"
   ]
  },
  {
   "cell_type": "code",
   "execution_count": 56,
   "metadata": {
    "collapsed": false
   },
   "outputs": [
    {
     "data": {
      "text/plain": [
       "<matplotlib.text.Text at 0x187a024d470>"
      ]
     },
     "execution_count": 56,
     "metadata": {},
     "output_type": "execute_result"
    },
    {
     "data": {
      "image/png": "[encoded data removed]",
      "text/plain": [
       "<matplotlib.figure.Figure at 0x187a0218518>"
      ]
     },
     "metadata": {},
     "output_type": "display_data"
    }
   ],
   "source": [
    "import pylab as pl\n",
    "for i in range(0, relations.shape[0]):\n",
    "    if kmeans.labels_[i] == 0:\n",
    "        c1 = pl.scatter(relations[i,0],relations[i,1],c='r',\n",
    "        marker='+')\n",
    "    elif  kmeans.labels_[i] == 1:\n",
    "        c2 = pl.scatter(relations[i,0],relations[i,1],c='g',\n",
    "        marker='o')\n",
    "    elif  kmeans.labels_[i] == 2:\n",
    "        c3 = pl.scatter(relations[i,0],relations[i,1],c='b',\n",
    "        marker='*')\n",
    "    elif  kmeans.labels_[i] == 3:\n",
    "        c4 = pl.scatter(relations[i,0],relations[i,1],c='y',\n",
    "        marker='^')\n",
    "\n",
    "pl.legend([c1, c2, c3, c4], ['Cluster 0', 'Cluster 1',\n",
    "        'Cluster 2', 'Cluster 3'])\n",
    "pl.title('Buildings')"
   ]
  },
  {
   "cell_type": "code",
   "execution_count": 43,
   "metadata": {
    "collapsed": true
   },
   "outputs": [],
   "source": [
    "import statsmodels.api as sm\n",
    "import statsmodels.formula.api as smf\n"
   ]
  },
  {
   "cell_type": "code",
   "execution_count": 52,
   "metadata": {
    "collapsed": false
   },
   "outputs": [
    {
     "data": {
      "text/html": [
       "<div>\n",
       "<table border=\"1\" class=\"dataframe\">\n",
       "  <thead>\n",
       "    <tr style=\"text-align: right;\">\n",
       "      <th></th>\n",
       "      <th>PC_1</th>\n",
       "      <th>PC_2</th>\n",
       "      <th>Electricity_Consumption</th>\n",
       "    </tr>\n",
       "    <tr>\n",
       "      <th>Buildings</th>\n",
       "      <th></th>\n",
       "      <th></th>\n",
       "      <th></th>\n",
       "    </tr>\n",
       "  </thead>\n",
       "  <tbody>\n",
       "    <tr>\n",
       "      <th>Building_1</th>\n",
       "      <td>3.200584</td>\n",
       "      <td>-0.121371</td>\n",
       "      <td>18.54</td>\n",
       "    </tr>\n",
       "    <tr>\n",
       "      <th>Building_2</th>\n",
       "      <td>1.772287</td>\n",
       "      <td>-0.769164</td>\n",
       "      <td>21.74</td>\n",
       "    </tr>\n",
       "    <tr>\n",
       "      <th>Building_3</th>\n",
       "      <td>-3.744626</td>\n",
       "      <td>1.166915</td>\n",
       "      <td>31.22</td>\n",
       "    </tr>\n",
       "    <tr>\n",
       "      <th>Building_4</th>\n",
       "      <td>-0.989281</td>\n",
       "      <td>-0.047387</td>\n",
       "      <td>25.62</td>\n",
       "    </tr>\n",
       "    <tr>\n",
       "      <th>Building_5</th>\n",
       "      <td>-1.468136</td>\n",
       "      <td>-0.819883</td>\n",
       "      <td>26.35</td>\n",
       "    </tr>\n",
       "    <tr>\n",
       "      <th>Building_6</th>\n",
       "      <td>-0.657472</td>\n",
       "      <td>-2.303336</td>\n",
       "      <td>23.16</td>\n",
       "    </tr>\n",
       "    <tr>\n",
       "      <th>Building_7</th>\n",
       "      <td>1.151658</td>\n",
       "      <td>2.949855</td>\n",
       "      <td>20.40</td>\n",
       "    </tr>\n",
       "    <tr>\n",
       "      <th>Building_8</th>\n",
       "      <td>0.734986</td>\n",
       "      <td>-0.055629</td>\n",
       "      <td>24.05</td>\n",
       "    </tr>\n",
       "  </tbody>\n",
       "</table>\n",
       "</div>"
      ],
      "text/plain": [
       "                PC_1      PC_2  Electricity_Consumption\n",
       "Buildings                                              \n",
       "Building_1  3.200584 -0.121371                    18.54\n",
       "Building_2  1.772287 -0.769164                    21.74\n",
       "Building_3 -3.744626  1.166915                    31.22\n",
       "Building_4 -0.989281 -0.047387                    25.62\n",
       "Building_5 -1.468136 -0.819883                    26.35\n",
       "Building_6 -0.657472 -2.303336                    23.16\n",
       "Building_7  1.151658  2.949855                    20.40\n",
       "Building_8  0.734986 -0.055629                    24.05"
      ]
     },
     "execution_count": 52,
     "metadata": {},
     "output_type": "execute_result"
    }
   ],
   "source": [
    "regr = relations.assign(Electricity_Consumption=data.Electricity_Consumption.values)\n",
    "\n",
    "regr"
   ]
  },
  {
   "cell_type": "code",
   "execution_count": 45,
   "metadata": {
    "collapsed": false
   },
   "outputs": [
    {
     "data": {
      "text/html": [
       "<div>\n",
       "<table border=\"1\" class=\"dataframe\">\n",
       "  <thead>\n",
       "    <tr style=\"text-align: right;\">\n",
       "      <th>Buildings</th>\n",
       "      <th>Building_1</th>\n",
       "      <th>Building_2</th>\n",
       "      <th>Building_3</th>\n",
       "      <th>Building_4</th>\n",
       "      <th>Building_5</th>\n",
       "      <th>Building_6</th>\n",
       "      <th>Building_7</th>\n",
       "      <th>Building_8</th>\n",
       "    </tr>\n",
       "  </thead>\n",
       "  <tbody>\n",
       "    <tr>\n",
       "      <th>PC 1</th>\n",
       "      <td>3.200584</td>\n",
       "      <td>1.772287</td>\n",
       "      <td>-3.744626</td>\n",
       "      <td>-0.989281</td>\n",
       "      <td>-1.468136</td>\n",
       "      <td>-0.657472</td>\n",
       "      <td>1.151658</td>\n",
       "      <td>0.734986</td>\n",
       "    </tr>\n",
       "    <tr>\n",
       "      <th>PC 2</th>\n",
       "      <td>-0.121371</td>\n",
       "      <td>-0.769164</td>\n",
       "      <td>1.166915</td>\n",
       "      <td>-0.047387</td>\n",
       "      <td>-0.819883</td>\n",
       "      <td>-2.303336</td>\n",
       "      <td>2.949855</td>\n",
       "      <td>-0.055629</td>\n",
       "    </tr>\n",
       "    <tr>\n",
       "      <th>Electricity_Consumption</th>\n",
       "      <td>18.540000</td>\n",
       "      <td>21.740000</td>\n",
       "      <td>31.220000</td>\n",
       "      <td>25.620000</td>\n",
       "      <td>26.350000</td>\n",
       "      <td>23.160000</td>\n",
       "      <td>20.400000</td>\n",
       "      <td>24.050000</td>\n",
       "    </tr>\n",
       "  </tbody>\n",
       "</table>\n",
       "</div>"
      ],
      "text/plain": [
       "Buildings                Building_1  Building_2  Building_3  Building_4  \\\n",
       "PC 1                       3.200584    1.772287   -3.744626   -0.989281   \n",
       "PC 2                      -0.121371   -0.769164    1.166915   -0.047387   \n",
       "Electricity_Consumption   18.540000   21.740000   31.220000   25.620000   \n",
       "\n",
       "Buildings                Building_5  Building_6  Building_7  Building_8  \n",
       "PC 1                      -1.468136   -0.657472    1.151658    0.734986  \n",
       "PC 2                      -0.819883   -2.303336    2.949855   -0.055629  \n",
       "Electricity_Consumption   26.350000   23.160000   20.400000   24.050000  "
      ]
     },
     "execution_count": 45,
     "metadata": {},
     "output_type": "execute_result"
    }
   ],
   "source": [
    "new_regr = np.transpose(regr)\n",
    "new_regr"
   ]
  },
  {
   "cell_type": "code",
   "execution_count": 54,
   "metadata": {
    "collapsed": false
   },
   "outputs": [
    {
     "data": {
      "text/plain": [
       "3.2005841603001057"
      ]
     },
     "execution_count": 54,
     "metadata": {},
     "output_type": "execute_result"
    }
   ],
   "source": [
    "regr.PC_1[0]"
   ]
  },
  {
   "cell_type": "code",
   "execution_count": 48,
   "metadata": {
    "collapsed": false
   },
   "outputs": [
    {
     "data": {
      "image/png": "[encoded data removed]",
      "text/plain": [
       "<matplotlib.figure.Figure at 0x187a021dda0>"
      ]
     },
     "metadata": {},
     "output_type": "display_data"
    }
   ],
   "source": [
    "lm = smf.ols(\"Electricity_Consumption ~ Air_Temperature\", data=data).fit()\n",
    "xmin = data.Air_Temperature.min()\n",
    "xmax = data.Air_Temperature.max()\n",
    "X = np.linspace(xmin, xmax, 100)\n",
    "# beta0\n",
    "intercept = lm.params[0]\n",
    "# beta1\n",
    "slope = lm.params[1]\n",
    "Y = intercept + slope * X\n",
    "\n",
    "plt.figure()\n",
    "plt.plot(data.Air_Temperature, data.Electricity_Consumption, 'o')\n",
    "plt.plot(X, Y, color='darkgreen')\n",
    "plt.margins(0.1)\n",
    "plt.title(\"Air_Temperature vs Electricity Consumption\", weight='bold')\n",
    "plt.xlabel(\"Air Temperature\")\n",
    "plt.ylabel(\"Electricity Consumption\")\n",
    "plt.show()"
   ]
  },
  {
   "cell_type": "code",
   "execution_count": 56,
   "metadata": {
    "collapsed": false
   },
   "outputs": [
    {
     "ename": "TypeError",
     "evalue": "list indices must be integers or slices, not list",
     "output_type": "error",
     "traceback": [
      "\u001b[1;31m---------------------------------------------------------------------------\u001b[0m",
      "\u001b[1;31mTypeError\u001b[0m                                 Traceback (most recent call last)",
      "\u001b[1;32m<ipython-input-56-5d1eb9f7b289>\u001b[0m in \u001b[0;36m<module>\u001b[1;34m()\u001b[0m\n\u001b[1;32m----> 1\u001b[1;33m \u001b[0mX\u001b[0m \u001b[1;33m=\u001b[0m \u001b[0mdf\u001b[0m\u001b[1;33m[\u001b[0m\u001b[1;33m[\u001b[0m\u001b[1;34m'capital_costs'\u001b[0m\u001b[1;33m,\u001b[0m \u001b[1;34m'labor_costs'\u001b[0m\u001b[1;33m]\u001b[0m\u001b[1;33m]\u001b[0m\u001b[1;33m\u001b[0m\u001b[0m\n\u001b[0m\u001b[0;32m      2\u001b[0m \u001b[0my\u001b[0m \u001b[1;33m=\u001b[0m \u001b[0mdf\u001b[0m\u001b[1;33m[\u001b[0m\u001b[1;34m'electrical_output'\u001b[0m\u001b[1;33m]\u001b[0m\u001b[1;33m\u001b[0m\u001b[0m\n\u001b[0;32m      3\u001b[0m \u001b[1;33m\u001b[0m\u001b[0m\n\u001b[0;32m      4\u001b[0m \u001b[1;31m## fit a OLS model with intercept on capital_costs and labor_costs\u001b[0m\u001b[1;33m\u001b[0m\u001b[1;33m\u001b[0m\u001b[0m\n\u001b[0;32m      5\u001b[0m \u001b[0mX\u001b[0m \u001b[1;33m=\u001b[0m \u001b[0msm\u001b[0m\u001b[1;33m.\u001b[0m\u001b[0madd_constant\u001b[0m\u001b[1;33m(\u001b[0m\u001b[0mX\u001b[0m\u001b[1;33m)\u001b[0m\u001b[1;33m\u001b[0m\u001b[0m\n",
      "\u001b[1;31mTypeError\u001b[0m: list indices must be integers or slices, not list"
     ]
    }
   ],
   "source": [
    "X = df[['capital_costs', 'labor_costs']]\n",
    "y = df['electrical_output']\n",
    "\n",
    "## fit a OLS model with intercept on capital_costs and labor_costs\n",
    "X = sm.add_constant(X)\n",
    "est = sm.OLS(y, X).fit()\n",
    "\n",
    "## Create the 3d plot -- skip reading this\n",
    "# capital_costs/labor_costs grid for 3d plot\n",
    "xx1, xx2 = np.meshgrid(np.linspace(X.capital_costs.min(), X.capital_costs.max(), 100), \n",
    "                       np.linspace(X.labor_costs.min(), X.labor_costs.max(), 100))\n",
    "# plot the hyperplane by evaluating the parameters on the grid\n",
    "Z = est.params[0] + est.params[1] * xx1 + est.params[2] * xx2\n",
    "\n",
    "# create matplotlib 3d axes\n",
    "fig = plt.figure(figsize=(12, 8))\n",
    "ax = Axes3D(fig, azim=-115, elev=15)\n",
    "\n",
    "# plot hyperplane\n",
    "surf = ax.plot_surface(xx1, xx2, Z, cmap=plt.cm.RdBu_r, alpha=0.6, linewidth=0)\n",
    "\n",
    "# plot data points - points over the HP are white, points below are black\n",
    "resid = y - est.predict(X)\n",
    "ax.scatter(X[resid >= 0].capital_costs, X[resid >= 0].labor_costs, y[resid >= 0], color='black', alpha=1.0, facecolor='white')\n",
    "ax.scatter(X[resid < 0].capital_costs, X[resid < 0].labor_costs, y[resid < 0], color='black', alpha=1.0)\n",
    "\n",
    "# set axis labels\n",
    "ax.set_xlabel('capital_costs')\n",
    "ax.set_ylabel('labor_costs')\n",
    "ax.set_zlabel('electrical_output')\n",
    "plt.show()"
   ]
  },
  {
   "cell_type": "code",
   "execution_count": 57,
   "metadata": {
    "collapsed": false
   },
   "outputs": [
    {
     "ename": "PatsyError",
     "evalue": "Error evaluating factor: TypeError: list indices must be integers or slices, not str\n    electrical_output ~ capital_costs + labor_costs+ energy_costs\n                                                     ^^^^^^^^^^^^",
     "output_type": "error",
     "traceback": [
      "\u001b[1;31m---------------------------------------------------------------------------\u001b[0m",
      "\u001b[1;31mTypeError\u001b[0m                                 Traceback (most recent call last)",
      "\u001b[1;32mC:\\Users\\Kachri\\Anaconda3\\lib\\site-packages\\patsy\\compat.py\u001b[0m in \u001b[0;36mcall_and_wrap_exc\u001b[1;34m(msg, origin, f, *args, **kwargs)\u001b[0m\n\u001b[0;32m    116\u001b[0m     \u001b[1;32mtry\u001b[0m\u001b[1;33m:\u001b[0m\u001b[1;33m\u001b[0m\u001b[0m\n\u001b[1;32m--> 117\u001b[1;33m         \u001b[1;32mreturn\u001b[0m \u001b[0mf\u001b[0m\u001b[1;33m(\u001b[0m\u001b[1;33m*\u001b[0m\u001b[0margs\u001b[0m\u001b[1;33m,\u001b[0m \u001b[1;33m**\u001b[0m\u001b[0mkwargs\u001b[0m\u001b[1;33m)\u001b[0m\u001b[1;33m\u001b[0m\u001b[0m\n\u001b[0m\u001b[0;32m    118\u001b[0m     \u001b[1;32mexcept\u001b[0m \u001b[0mException\u001b[0m \u001b[1;32mas\u001b[0m \u001b[0me\u001b[0m\u001b[1;33m:\u001b[0m\u001b[1;33m\u001b[0m\u001b[0m\n",
      "\u001b[1;32mC:\\Users\\Kachri\\Anaconda3\\lib\\site-packages\\patsy\\eval.py\u001b[0m in \u001b[0;36meval\u001b[1;34m(self, expr, source_name, inner_namespace)\u001b[0m\n\u001b[0;32m    165\u001b[0m         return eval(code, {}, VarLookupDict([inner_namespace]\n\u001b[1;32m--> 166\u001b[1;33m                                             + self._namespaces))\n\u001b[0m\u001b[0;32m    167\u001b[0m \u001b[1;33m\u001b[0m\u001b[0m\n",
      "\u001b[1;32m<string>\u001b[0m in \u001b[0;36m<module>\u001b[1;34m()\u001b[0m\n",
      "\u001b[1;32mC:\\Users\\Kachri\\Anaconda3\\lib\\site-packages\\patsy\\eval.py\u001b[0m in \u001b[0;36m__getitem__\u001b[1;34m(self, key)\u001b[0m\n\u001b[0;32m     47\u001b[0m             \u001b[1;32mtry\u001b[0m\u001b[1;33m:\u001b[0m\u001b[1;33m\u001b[0m\u001b[0m\n\u001b[1;32m---> 48\u001b[1;33m                 \u001b[1;32mreturn\u001b[0m \u001b[0md\u001b[0m\u001b[1;33m[\u001b[0m\u001b[0mkey\u001b[0m\u001b[1;33m]\u001b[0m\u001b[1;33m\u001b[0m\u001b[0m\n\u001b[0m\u001b[0;32m     49\u001b[0m             \u001b[1;32mexcept\u001b[0m \u001b[0mKeyError\u001b[0m\u001b[1;33m:\u001b[0m\u001b[1;33m\u001b[0m\u001b[0m\n",
      "\u001b[1;32mC:\\Users\\Kachri\\Anaconda3\\lib\\site-packages\\patsy\\eval.py\u001b[0m in \u001b[0;36m__getitem__\u001b[1;34m(self, key)\u001b[0m\n\u001b[0;32m     47\u001b[0m             \u001b[1;32mtry\u001b[0m\u001b[1;33m:\u001b[0m\u001b[1;33m\u001b[0m\u001b[0m\n\u001b[1;32m---> 48\u001b[1;33m                 \u001b[1;32mreturn\u001b[0m \u001b[0md\u001b[0m\u001b[1;33m[\u001b[0m\u001b[0mkey\u001b[0m\u001b[1;33m]\u001b[0m\u001b[1;33m\u001b[0m\u001b[0m\n\u001b[0m\u001b[0;32m     49\u001b[0m             \u001b[1;32mexcept\u001b[0m \u001b[0mKeyError\u001b[0m\u001b[1;33m:\u001b[0m\u001b[1;33m\u001b[0m\u001b[0m\n",
      "\u001b[1;31mTypeError\u001b[0m: list indices must be integers or slices, not str",
      "\nThe above exception was the direct cause of the following exception:\n",
      "\u001b[1;31mPatsyError\u001b[0m                                Traceback (most recent call last)",
      "\u001b[1;32m<ipython-input-57-aa047ce7684d>\u001b[0m in \u001b[0;36m<module>\u001b[1;34m()\u001b[0m\n\u001b[0;32m      1\u001b[0m \u001b[1;31m# create a fitted model with all three features\u001b[0m\u001b[1;33m\u001b[0m\u001b[1;33m\u001b[0m\u001b[0m\n\u001b[1;32m----> 2\u001b[1;33m \u001b[0mlm\u001b[0m \u001b[1;33m=\u001b[0m \u001b[0msmf\u001b[0m\u001b[1;33m.\u001b[0m\u001b[0mols\u001b[0m\u001b[1;33m(\u001b[0m\u001b[0mformula\u001b[0m\u001b[1;33m=\u001b[0m\u001b[1;34m'electrical_output ~ capital_costs + labor_costs+ energy_costs'\u001b[0m\u001b[1;33m,\u001b[0m \u001b[0mdata\u001b[0m\u001b[1;33m=\u001b[0m\u001b[0mdf\u001b[0m\u001b[1;33m)\u001b[0m\u001b[1;33m.\u001b[0m\u001b[0mfit\u001b[0m\u001b[1;33m(\u001b[0m\u001b[1;33m)\u001b[0m\u001b[1;33m\u001b[0m\u001b[0m\n\u001b[0m\u001b[0;32m      3\u001b[0m \u001b[1;33m\u001b[0m\u001b[0m\n\u001b[0;32m      4\u001b[0m \u001b[1;31m# print the coefficients\u001b[0m\u001b[1;33m\u001b[0m\u001b[1;33m\u001b[0m\u001b[0m\n\u001b[0;32m      5\u001b[0m \u001b[0mlm\u001b[0m\u001b[1;33m.\u001b[0m\u001b[0mparams\u001b[0m\u001b[1;33m\u001b[0m\u001b[0m\n",
      "\u001b[1;32mC:\\Users\\Kachri\\Anaconda3\\lib\\site-packages\\statsmodels\\base\\model.py\u001b[0m in \u001b[0;36mfrom_formula\u001b[1;34m(cls, formula, data, subset, *args, **kwargs)\u001b[0m\n\u001b[0;32m    145\u001b[0m         (endog, exog), missing_idx = handle_formula_data(data, None, formula,\n\u001b[0;32m    146\u001b[0m                                                          \u001b[0mdepth\u001b[0m\u001b[1;33m=\u001b[0m\u001b[0meval_env\u001b[0m\u001b[1;33m,\u001b[0m\u001b[1;33m\u001b[0m\u001b[0m\n\u001b[1;32m--> 147\u001b[1;33m                                                          missing=missing)\n\u001b[0m\u001b[0;32m    148\u001b[0m         kwargs.update({'missing_idx': missing_idx,\n\u001b[0;32m    149\u001b[0m                        'missing': missing})\n",
      "\u001b[1;32mC:\\Users\\Kachri\\Anaconda3\\lib\\site-packages\\statsmodels\\formula\\formulatools.py\u001b[0m in \u001b[0;36mhandle_formula_data\u001b[1;34m(Y, X, formula, depth, missing)\u001b[0m\n\u001b[0;32m     66\u001b[0m         \u001b[1;32melse\u001b[0m\u001b[1;33m:\u001b[0m\u001b[1;33m\u001b[0m\u001b[0m\n\u001b[0;32m     67\u001b[0m             result = dmatrices(formula, Y, depth, return_type='dataframe',\n\u001b[1;32m---> 68\u001b[1;33m                                NA_action=na_action)\n\u001b[0m\u001b[0;32m     69\u001b[0m \u001b[1;33m\u001b[0m\u001b[0m\n\u001b[0;32m     70\u001b[0m     \u001b[1;31m# if missing == 'raise' there's not missing_mask\u001b[0m\u001b[1;33m\u001b[0m\u001b[1;33m\u001b[0m\u001b[0m\n",
      "\u001b[1;32mC:\\Users\\Kachri\\Anaconda3\\lib\\site-packages\\patsy\\highlevel.py\u001b[0m in \u001b[0;36mdmatrices\u001b[1;34m(formula_like, data, eval_env, NA_action, return_type)\u001b[0m\n\u001b[0;32m    308\u001b[0m     \u001b[0meval_env\u001b[0m \u001b[1;33m=\u001b[0m \u001b[0mEvalEnvironment\u001b[0m\u001b[1;33m.\u001b[0m\u001b[0mcapture\u001b[0m\u001b[1;33m(\u001b[0m\u001b[0meval_env\u001b[0m\u001b[1;33m,\u001b[0m \u001b[0mreference\u001b[0m\u001b[1;33m=\u001b[0m\u001b[1;36m1\u001b[0m\u001b[1;33m)\u001b[0m\u001b[1;33m\u001b[0m\u001b[0m\n\u001b[0;32m    309\u001b[0m     (lhs, rhs) = _do_highlevel_design(formula_like, data, eval_env,\n\u001b[1;32m--> 310\u001b[1;33m                                       NA_action, return_type)\n\u001b[0m\u001b[0;32m    311\u001b[0m     \u001b[1;32mif\u001b[0m \u001b[0mlhs\u001b[0m\u001b[1;33m.\u001b[0m\u001b[0mshape\u001b[0m\u001b[1;33m[\u001b[0m\u001b[1;36m1\u001b[0m\u001b[1;33m]\u001b[0m \u001b[1;33m==\u001b[0m \u001b[1;36m0\u001b[0m\u001b[1;33m:\u001b[0m\u001b[1;33m\u001b[0m\u001b[0m\n\u001b[0;32m    312\u001b[0m         \u001b[1;32mraise\u001b[0m \u001b[0mPatsyError\u001b[0m\u001b[1;33m(\u001b[0m\u001b[1;34m\"model is missing required outcome variables\"\u001b[0m\u001b[1;33m)\u001b[0m\u001b[1;33m\u001b[0m\u001b[0m\n",
      "\u001b[1;32mC:\\Users\\Kachri\\Anaconda3\\lib\\site-packages\\patsy\\highlevel.py\u001b[0m in \u001b[0;36m_do_highlevel_design\u001b[1;34m(formula_like, data, eval_env, NA_action, return_type)\u001b[0m\n\u001b[0;32m    163\u001b[0m         \u001b[1;32mreturn\u001b[0m \u001b[0miter\u001b[0m\u001b[1;33m(\u001b[0m\u001b[1;33m[\u001b[0m\u001b[0mdata\u001b[0m\u001b[1;33m]\u001b[0m\u001b[1;33m)\u001b[0m\u001b[1;33m\u001b[0m\u001b[0m\n\u001b[0;32m    164\u001b[0m     design_infos = _try_incr_builders(formula_like, data_iter_maker, eval_env,\n\u001b[1;32m--> 165\u001b[1;33m                                       NA_action)\n\u001b[0m\u001b[0;32m    166\u001b[0m     \u001b[1;32mif\u001b[0m \u001b[0mdesign_infos\u001b[0m \u001b[1;32mis\u001b[0m \u001b[1;32mnot\u001b[0m \u001b[1;32mNone\u001b[0m\u001b[1;33m:\u001b[0m\u001b[1;33m\u001b[0m\u001b[0m\n\u001b[0;32m    167\u001b[0m         return build_design_matrices(design_infos, data,\n",
      "\u001b[1;32mC:\\Users\\Kachri\\Anaconda3\\lib\\site-packages\\patsy\\highlevel.py\u001b[0m in \u001b[0;36m_try_incr_builders\u001b[1;34m(formula_like, data_iter_maker, eval_env, NA_action)\u001b[0m\n\u001b[0;32m     68\u001b[0m                                       \u001b[0mdata_iter_maker\u001b[0m\u001b[1;33m,\u001b[0m\u001b[1;33m\u001b[0m\u001b[0m\n\u001b[0;32m     69\u001b[0m                                       \u001b[0meval_env\u001b[0m\u001b[1;33m,\u001b[0m\u001b[1;33m\u001b[0m\u001b[0m\n\u001b[1;32m---> 70\u001b[1;33m                                       NA_action)\n\u001b[0m\u001b[0;32m     71\u001b[0m     \u001b[1;32melse\u001b[0m\u001b[1;33m:\u001b[0m\u001b[1;33m\u001b[0m\u001b[0m\n\u001b[0;32m     72\u001b[0m         \u001b[1;32mreturn\u001b[0m \u001b[1;32mNone\u001b[0m\u001b[1;33m\u001b[0m\u001b[0m\n",
      "\u001b[1;32mC:\\Users\\Kachri\\Anaconda3\\lib\\site-packages\\patsy\\build.py\u001b[0m in \u001b[0;36mdesign_matrix_builders\u001b[1;34m(termlists, data_iter_maker, eval_env, NA_action)\u001b[0m\n\u001b[0;32m    694\u001b[0m                                                    \u001b[0mfactor_states\u001b[0m\u001b[1;33m,\u001b[0m\u001b[1;33m\u001b[0m\u001b[0m\n\u001b[0;32m    695\u001b[0m                                                    \u001b[0mdata_iter_maker\u001b[0m\u001b[1;33m,\u001b[0m\u001b[1;33m\u001b[0m\u001b[0m\n\u001b[1;32m--> 696\u001b[1;33m                                                    NA_action)\n\u001b[0m\u001b[0;32m    697\u001b[0m     \u001b[1;31m# Now we need the factor infos, which encapsulate the knowledge of\u001b[0m\u001b[1;33m\u001b[0m\u001b[1;33m\u001b[0m\u001b[0m\n\u001b[0;32m    698\u001b[0m     \u001b[1;31m# how to turn any given factor into a chunk of data:\u001b[0m\u001b[1;33m\u001b[0m\u001b[1;33m\u001b[0m\u001b[0m\n",
      "\u001b[1;32mC:\\Users\\Kachri\\Anaconda3\\lib\\site-packages\\patsy\\build.py\u001b[0m in \u001b[0;36m_examine_factor_types\u001b[1;34m(factors, factor_states, data_iter_maker, NA_action)\u001b[0m\n\u001b[0;32m    441\u001b[0m     \u001b[1;32mfor\u001b[0m \u001b[0mdata\u001b[0m \u001b[1;32min\u001b[0m \u001b[0mdata_iter_maker\u001b[0m\u001b[1;33m(\u001b[0m\u001b[1;33m)\u001b[0m\u001b[1;33m:\u001b[0m\u001b[1;33m\u001b[0m\u001b[0m\n\u001b[0;32m    442\u001b[0m         \u001b[1;32mfor\u001b[0m \u001b[0mfactor\u001b[0m \u001b[1;32min\u001b[0m \u001b[0mlist\u001b[0m\u001b[1;33m(\u001b[0m\u001b[0mexamine_needed\u001b[0m\u001b[1;33m)\u001b[0m\u001b[1;33m:\u001b[0m\u001b[1;33m\u001b[0m\u001b[0m\n\u001b[1;32m--> 443\u001b[1;33m             \u001b[0mvalue\u001b[0m \u001b[1;33m=\u001b[0m \u001b[0mfactor\u001b[0m\u001b[1;33m.\u001b[0m\u001b[0meval\u001b[0m\u001b[1;33m(\u001b[0m\u001b[0mfactor_states\u001b[0m\u001b[1;33m[\u001b[0m\u001b[0mfactor\u001b[0m\u001b[1;33m]\u001b[0m\u001b[1;33m,\u001b[0m \u001b[0mdata\u001b[0m\u001b[1;33m)\u001b[0m\u001b[1;33m\u001b[0m\u001b[0m\n\u001b[0m\u001b[0;32m    444\u001b[0m             \u001b[1;32mif\u001b[0m \u001b[0mfactor\u001b[0m \u001b[1;32min\u001b[0m \u001b[0mcat_sniffers\u001b[0m \u001b[1;32mor\u001b[0m \u001b[0mguess_categorical\u001b[0m\u001b[1;33m(\u001b[0m\u001b[0mvalue\u001b[0m\u001b[1;33m)\u001b[0m\u001b[1;33m:\u001b[0m\u001b[1;33m\u001b[0m\u001b[0m\n\u001b[0;32m    445\u001b[0m                 \u001b[1;32mif\u001b[0m \u001b[0mfactor\u001b[0m \u001b[1;32mnot\u001b[0m \u001b[1;32min\u001b[0m \u001b[0mcat_sniffers\u001b[0m\u001b[1;33m:\u001b[0m\u001b[1;33m\u001b[0m\u001b[0m\n",
      "\u001b[1;32mC:\\Users\\Kachri\\Anaconda3\\lib\\site-packages\\patsy\\eval.py\u001b[0m in \u001b[0;36meval\u001b[1;34m(self, memorize_state, data)\u001b[0m\n\u001b[0;32m    564\u001b[0m         return self._eval(memorize_state[\"eval_code\"],\n\u001b[0;32m    565\u001b[0m                           \u001b[0mmemorize_state\u001b[0m\u001b[1;33m,\u001b[0m\u001b[1;33m\u001b[0m\u001b[0m\n\u001b[1;32m--> 566\u001b[1;33m                           data)\n\u001b[0m\u001b[0;32m    567\u001b[0m \u001b[1;33m\u001b[0m\u001b[0m\n\u001b[0;32m    568\u001b[0m     \u001b[0m__getstate__\u001b[0m \u001b[1;33m=\u001b[0m \u001b[0mno_pickling\u001b[0m\u001b[1;33m\u001b[0m\u001b[0m\n",
      "\u001b[1;32mC:\\Users\\Kachri\\Anaconda3\\lib\\site-packages\\patsy\\eval.py\u001b[0m in \u001b[0;36m_eval\u001b[1;34m(self, code, memorize_state, data)\u001b[0m\n\u001b[0;32m    549\u001b[0m                                  \u001b[0mmemorize_state\u001b[0m\u001b[1;33m[\u001b[0m\u001b[1;34m\"eval_env\"\u001b[0m\u001b[1;33m]\u001b[0m\u001b[1;33m.\u001b[0m\u001b[0meval\u001b[0m\u001b[1;33m,\u001b[0m\u001b[1;33m\u001b[0m\u001b[0m\n\u001b[0;32m    550\u001b[0m                                  \u001b[0mcode\u001b[0m\u001b[1;33m,\u001b[0m\u001b[1;33m\u001b[0m\u001b[0m\n\u001b[1;32m--> 551\u001b[1;33m                                  inner_namespace=inner_namespace)\n\u001b[0m\u001b[0;32m    552\u001b[0m \u001b[1;33m\u001b[0m\u001b[0m\n\u001b[0;32m    553\u001b[0m     \u001b[1;32mdef\u001b[0m \u001b[0mmemorize_chunk\u001b[0m\u001b[1;33m(\u001b[0m\u001b[0mself\u001b[0m\u001b[1;33m,\u001b[0m \u001b[0mstate\u001b[0m\u001b[1;33m,\u001b[0m \u001b[0mwhich_pass\u001b[0m\u001b[1;33m,\u001b[0m \u001b[0mdata\u001b[0m\u001b[1;33m)\u001b[0m\u001b[1;33m:\u001b[0m\u001b[1;33m\u001b[0m\u001b[0m\n",
      "\u001b[1;32mC:\\Users\\Kachri\\Anaconda3\\lib\\site-packages\\patsy\\compat.py\u001b[0m in \u001b[0;36mcall_and_wrap_exc\u001b[1;34m(msg, origin, f, *args, **kwargs)\u001b[0m\n\u001b[0;32m    122\u001b[0m                                  origin)\n\u001b[0;32m    123\u001b[0m             \u001b[1;31m# Use 'exec' to hide this syntax from the Python 2 parser:\u001b[0m\u001b[1;33m\u001b[0m\u001b[1;33m\u001b[0m\u001b[0m\n\u001b[1;32m--> 124\u001b[1;33m             \u001b[0mexec\u001b[0m\u001b[1;33m(\u001b[0m\u001b[1;34m\"raise new_exc from e\"\u001b[0m\u001b[1;33m)\u001b[0m\u001b[1;33m\u001b[0m\u001b[0m\n\u001b[0m\u001b[0;32m    125\u001b[0m         \u001b[1;32melse\u001b[0m\u001b[1;33m:\u001b[0m\u001b[1;33m\u001b[0m\u001b[0m\n\u001b[0;32m    126\u001b[0m             \u001b[1;31m# In python 2, we just let the original exception escape -- better\u001b[0m\u001b[1;33m\u001b[0m\u001b[1;33m\u001b[0m\u001b[0m\n",
      "\u001b[1;32mC:\\Users\\Kachri\\Anaconda3\\lib\\site-packages\\patsy\\compat.py\u001b[0m in \u001b[0;36m<module>\u001b[1;34m()\u001b[0m\n",
      "\u001b[1;31mPatsyError\u001b[0m: Error evaluating factor: TypeError: list indices must be integers or slices, not str\n    electrical_output ~ capital_costs + labor_costs+ energy_costs\n                                                     ^^^^^^^^^^^^"
     ]
    }
   ],
   "source": [
    "# create a fitted model with all three features\n",
    "lm = smf.ols(formula='electrical_output ~ capital_costs + labor_costs+ energy_costs', data=df).fit()\n",
    "\n",
    "# print the coefficients\n",
    "lm.params"
   ]
  },
  {
   "cell_type": "code",
   "execution_count": 58,
   "metadata": {
    "collapsed": false
   },
   "outputs": [
    {
     "name": "stderr",
     "output_type": "stream",
     "text": [
      "C:\\Users\\Kachri\\Anaconda3\\lib\\site-packages\\scipy\\stats\\stats.py:1535: UserWarning:\n",
      "\n",
      "kurtosistest only valid for n>=20 ... continuing anyway, n=8\n",
      "\n"
     ]
    },
    {
     "data": {
      "text/html": [
       "<table class=\"simpletable\">\n",
       "<caption>OLS Regression Results</caption>\n",
       "<tr>\n",
       "  <th>Dep. Variable:</th>    <td>Electricity_Consumption</td> <th>  R-squared:         </th> <td>   0.762</td>\n",
       "</tr>\n",
       "<tr>\n",
       "  <th>Model:</th>                      <td>OLS</td>           <th>  Adj. R-squared:    </th> <td>   0.722</td>\n",
       "</tr>\n",
       "<tr>\n",
       "  <th>Method:</th>                <td>Least Squares</td>      <th>  F-statistic:       </th> <td>   19.17</td>\n",
       "</tr>\n",
       "<tr>\n",
       "  <th>Date:</th>                <td>Wed, 20 Sep 2017</td>     <th>  Prob (F-statistic):</th>  <td>0.00468</td>\n",
       "</tr>\n",
       "<tr>\n",
       "  <th>Time:</th>                    <td>01:36:42</td>         <th>  Log-Likelihood:    </th> <td> -16.055</td>\n",
       "</tr>\n",
       "<tr>\n",
       "  <th>No. Observations:</th>         <td>     8</td>          <th>  AIC:               </th> <td>   36.11</td>\n",
       "</tr>\n",
       "<tr>\n",
       "  <th>Df Residuals:</th>             <td>     6</td>          <th>  BIC:               </th> <td>   36.27</td>\n",
       "</tr>\n",
       "<tr>\n",
       "  <th>Df Model:</th>                 <td>     1</td>          <th>                     </th>     <td> </td>   \n",
       "</tr>\n",
       "<tr>\n",
       "  <th>Covariance Type:</th>         <td>nonrobust</td>        <th>                     </th>     <td> </td>   \n",
       "</tr>\n",
       "</table>\n",
       "<table class=\"simpletable\">\n",
       "<tr>\n",
       "        <td></td>          <th>coef</th>     <th>std err</th>      <th>t</th>      <th>P>|t|</th> <th>[95.0% Conf. Int.]</th> \n",
       "</tr>\n",
       "<tr>\n",
       "  <th>Intercept</th>    <td>   13.5346</td> <td>    2.476</td> <td>    5.467</td> <td> 0.002</td> <td>    7.477    19.593</td>\n",
       "</tr>\n",
       "<tr>\n",
       "  <th>Direct_Light</th> <td>    0.0293</td> <td>    0.007</td> <td>    4.378</td> <td> 0.005</td> <td>    0.013     0.046</td>\n",
       "</tr>\n",
       "</table>\n",
       "<table class=\"simpletable\">\n",
       "<tr>\n",
       "  <th>Omnibus:</th>       <td> 4.241</td> <th>  Durbin-Watson:     </th> <td>   1.511</td>\n",
       "</tr>\n",
       "<tr>\n",
       "  <th>Prob(Omnibus):</th> <td> 0.120</td> <th>  Jarque-Bera (JB):  </th> <td>   1.027</td>\n",
       "</tr>\n",
       "<tr>\n",
       "  <th>Skew:</th>          <td>-0.844</td> <th>  Prob(JB):          </th> <td>   0.598</td>\n",
       "</tr>\n",
       "<tr>\n",
       "  <th>Kurtosis:</th>      <td> 3.480</td> <th>  Cond. No.          </th> <td>1.25e+03</td>\n",
       "</tr>\n",
       "</table>"
      ],
      "text/plain": [
       "<class 'statsmodels.iolib.summary.Summary'>\n",
       "\"\"\"\n",
       "                               OLS Regression Results                              \n",
       "===================================================================================\n",
       "Dep. Variable:     Electricity_Consumption   R-squared:                       0.762\n",
       "Model:                                 OLS   Adj. R-squared:                  0.722\n",
       "Method:                      Least Squares   F-statistic:                     19.17\n",
       "Date:                     Wed, 20 Sep 2017   Prob (F-statistic):            0.00468\n",
       "Time:                             01:36:42   Log-Likelihood:                -16.055\n",
       "No. Observations:                        8   AIC:                             36.11\n",
       "Df Residuals:                            6   BIC:                             36.27\n",
       "Df Model:                                1                                         \n",
       "Covariance Type:                 nonrobust                                         \n",
       "================================================================================\n",
       "                   coef    std err          t      P>|t|      [95.0% Conf. Int.]\n",
       "--------------------------------------------------------------------------------\n",
       "Intercept       13.5346      2.476      5.467      0.002         7.477    19.593\n",
       "Direct_Light     0.0293      0.007      4.378      0.005         0.013     0.046\n",
       "==============================================================================\n",
       "Omnibus:                        4.241   Durbin-Watson:                   1.511\n",
       "Prob(Omnibus):                  0.120   Jarque-Bera (JB):                1.027\n",
       "Skew:                          -0.844   Prob(JB):                        0.598\n",
       "Kurtosis:                       3.480   Cond. No.                     1.25e+03\n",
       "==============================================================================\n",
       "\n",
       "Warnings:\n",
       "[1] Standard Errors assume that the covariance matrix of the errors is correctly specified.\n",
       "[2] The condition number is large, 1.25e+03. This might indicate that there are\n",
       "strong multicollinearity or other numerical problems.\n",
       "\"\"\""
      ]
     },
     "execution_count": 58,
     "metadata": {},
     "output_type": "execute_result"
    }
   ],
   "source": [
    "# print a summary of the fitted model\n",
    "lm.summary()"
   ]
  },
  {
   "cell_type": "code",
   "execution_count": 59,
   "metadata": {
    "collapsed": false
   },
   "outputs": [
    {
     "data": {
      "text/plain": [
       "<bound method Results.predict of <statsmodels.regression.linear_model.OLSResults object at 0x00000254E385F278>>"
      ]
     },
     "execution_count": 59,
     "metadata": {},
     "output_type": "execute_result"
    }
   ],
   "source": [
    "lm.predict"
   ]
  },
  {
   "cell_type": "code",
   "execution_count": null,
   "metadata": {
    "collapsed": true
   },
   "outputs": [],
   "source": []
  }
 ],
 "metadata": {
  "anaconda-cloud": {},
  "kernelspec": {
   "display_name": "Python [Root]",
   "language": "python",
   "name": "Python [Root]"
  },
  "language_info": {
   "codemirror_mode": {
    "name": "ipython",
    "version": 3
   },
   "file_extension": ".py",
   "mimetype": "text/x-python",
   "name": "python",
   "nbconvert_exporter": "python",
   "pygments_lexer": "ipython3",
   "version": "3.5.1"
  }
 },
 "nbformat": 4,
 "nbformat_minor": 0
}
